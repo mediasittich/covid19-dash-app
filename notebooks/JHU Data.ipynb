{
 "cells": [
  {
   "cell_type": "code",
   "execution_count": 1,
   "metadata": {},
   "outputs": [],
   "source": [
    "# System info data\n",
    "import os\n",
    "import platform\n",
    "from platform import python_version"
   ]
  },
  {
   "cell_type": "code",
   "execution_count": 2,
   "metadata": {},
   "outputs": [],
   "source": [
    "# Import Libraries\n",
    "import jupyterlab\n",
    "import numpy as np\n",
    "import pandas as pd\n",
    "import matplotlib.pyplot as plt\n",
    "from pandas.plotting import register_matplotlib_converters\n",
    "register_matplotlib_converters()\n",
    "%matplotlib inline\n",
    "import plotly.express as px\n",
    "import plotly.graph_objects as go\n",
    "from plotly.subplots import make_subplots\n",
    "plt.rcParams['figure.figsize'] = [15, 5]\n",
    "from IPython import display\n",
    "from ipywidgets import interact, widgets"
   ]
  },
  {
   "cell_type": "code",
   "execution_count": 3,
   "metadata": {},
   "outputs": [
    {
     "name": "stdout",
     "output_type": "stream",
     "text": [
      "System\n",
      "os name: posix\n",
      "system: Darwin\n",
      "release: 19.2.0\n",
      "\n",
      "Python\n",
      "version: 3.7.3\n",
      "\n",
      "Python Packages\n",
      "jupterlab==1.0.2\n",
      "pandas==0.24.2\n"
     ]
    }
   ],
   "source": [
    "print(\"System\")\n",
    "print(\"os name: %s\" % os.name)\n",
    "print(\"system: %s\" % platform.system())\n",
    "print(\"release: %s\" % platform.release())\n",
    "print()\n",
    "print(\"Python\")\n",
    "print(\"version: %s\" % python_version())\n",
    "print()\n",
    "print(\"Python Packages\")\n",
    "print(\"jupterlab==%s\" % jupyterlab.__version__)\n",
    "print(\"pandas==%s\" % pd.__version__)"
   ]
  },
  {
   "cell_type": "code",
   "execution_count": 4,
   "metadata": {},
   "outputs": [],
   "source": [
    "# Data urls\n",
    "base_url = \"https://raw.githubusercontent.com/CSSEGISandData/COVID-19/master/csse_covid_19_data/csse_covid_19_time_series/\"\n",
    "confirmed_cases_url = base_url + 'time_series_covid19_confirmed_global.csv'\n",
    "death_cases_url = base_url + 'time_series_covid19_deaths_global.csv'\n",
    "recovered_cases_url = base_url+ 'time_series_covid19_recovered_global.csv'\n",
    "\n",
    "# Import datasets as pandas dataframes\n",
    "raw_data_confirmed = pd.read_csv(confirmed_cases_url)\n",
    "raw_data_deaths = pd.read_csv(death_cases_url)\n",
    "raw_data_recovered = pd.read_csv(recovered_cases_url)"
   ]
  },
  {
   "cell_type": "code",
   "execution_count": 5,
   "metadata": {},
   "outputs": [],
   "source": [
    "# Function to Reshape dataset\n",
    "def reshape_data(raw_df):\n",
    "    \n",
    "    # Melt data frame into long shape\n",
    "    reshaped_df = raw_df.melt(id_vars=['Province/State', 'Country/Region', 'Lat', 'Long'], value_name = 'Cases', var_name = 'Date')\n",
    "    \n",
    "    # Set index\n",
    "    reshaped_df = reshaped_df.set_index(['Country/Region', 'Province/State', 'Date'])\n",
    "\n",
    "    return reshaped_df"
   ]
  },
  {
   "cell_type": "code",
   "execution_count": 6,
   "metadata": {},
   "outputs": [],
   "source": [
    "# Reshape raw datasets\n",
    "confirmed_df = reshape_data(raw_data_confirmed)\n",
    "deaths_df = reshape_data(raw_data_deaths)\n",
    "recovered_df = reshape_data(raw_data_recovered)"
   ]
  },
  {
   "cell_type": "code",
   "execution_count": null,
   "metadata": {},
   "outputs": [],
   "source": [
    "confirmed_df.groupby(['Country/Region', 'Date'])['Cases'].sum()"
   ]
  }
 ],
 "metadata": {
  "kernelspec": {
   "display_name": "Python 3",
   "language": "python",
   "name": "python3"
  },
  "language_info": {
   "codemirror_mode": {
    "name": "ipython",
    "version": 3
   },
   "file_extension": ".py",
   "mimetype": "text/x-python",
   "name": "python",
   "nbconvert_exporter": "python",
   "pygments_lexer": "ipython3",
   "version": "3.7.3"
  }
 },
 "nbformat": 4,
 "nbformat_minor": 2
}
