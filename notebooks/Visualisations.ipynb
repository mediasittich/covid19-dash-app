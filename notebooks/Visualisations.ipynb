{
 "cells": [
  {
   "cell_type": "markdown",
   "metadata": {},
   "source": [
    "# Visualisations\n",
    "\n",
    "- Daily & Cumulative Reported Cases\n",
    "- Maps\n"
   ]
  },
  {
   "cell_type": "code",
   "execution_count": 1,
   "metadata": {},
   "outputs": [],
   "source": [
    "%matplotlib inline\n",
    "import os\n",
    "from pathlib import Path\n",
    "\n",
    "# Data processing\n",
    "import numpy as np\n",
    "import pandas as pd\n",
    "\n",
    "# Data visualisation\n",
    "import matplotlib.pyplot as plt\n",
    "import plotly.express as px\n",
    "import plotly.graph_objects as go"
   ]
  },
  {
   "cell_type": "code",
   "execution_count": null,
   "metadata": {},
   "outputs": [],
   "source": [
    "import json"
   ]
  },
  {
   "cell_type": "code",
   "execution_count": 2,
   "metadata": {},
   "outputs": [],
   "source": [
    "import geopandas as gpd"
   ]
  },
  {
   "cell_type": "markdown",
   "metadata": {},
   "source": [
    " Python | os.path.join() method: https://www.geeksforgeeks.org/python-os-path-join-method/"
   ]
  },
  {
   "cell_type": "code",
   "execution_count": 3,
   "metadata": {
    "scrolled": false
   },
   "outputs": [
    {
     "name": "stdout",
     "output_type": "stream",
     "text": [
      "/Users/reginagalambos/Google Drive_mediasittich/LMU-Statistik/WS1920/3_praxisprojekt_ws1920/covid_19_python_dash/reports/figures/\n"
     ]
    }
   ],
   "source": [
    "notebook_path = os.path.abspath(\"Notebook.ipynb\")\n",
    "project_path = Path(notebook_path).parent.parent\n",
    "\n",
    "data_path = os.path.join(project_path, 'data')\n",
    "external_data_path = os.path.join(data_path, 'external', '')\n",
    "processed_data_path = os.path.join(data_path, 'processed', '')\n",
    "\n",
    "figures_path = os.path.join(project_path, 'reports', 'figures', '')\n",
    "print(figures_path)"
   ]
  },
  {
   "cell_type": "code",
   "execution_count": 4,
   "metadata": {
    "scrolled": true
   },
   "outputs": [],
   "source": [
    "shapefile = os.path.join(external_data_path, 'ne_10m_admin_0_countries/ne_10m_admin_0_countries.shp')"
   ]
  },
  {
   "cell_type": "code",
   "execution_count": null,
   "metadata": {},
   "outputs": [],
   "source": []
  },
  {
   "cell_type": "code",
   "execution_count": 5,
   "metadata": {},
   "outputs": [],
   "source": [
    "# Load Datasets\n",
    "\n",
    "# Assign repository URL\n",
    "countries_datafile = os.path.join(os.path.dirname(processed_data_path), 'covid_countries.csv')\n",
    "\n",
    "# Load dataset to dataframe\n",
    "countries_df = pd.read_csv(countries_datafile)"
   ]
  },
  {
   "cell_type": "code",
   "execution_count": 8,
   "metadata": {},
   "outputs": [
    {
     "data": {
      "text/plain": [
       "6"
      ]
     },
     "execution_count": 8,
     "metadata": {},
     "output_type": "execute_result"
    }
   ],
   "source": [
    "codes = ['USA', 'ITA', 'FRA', 'GBR',  'KOR', 'CHN']\n",
    "len(codes)"
   ]
  },
  {
   "cell_type": "markdown",
   "metadata": {},
   "source": [
    "---"
   ]
  },
  {
   "cell_type": "code",
   "execution_count": 9,
   "metadata": {
    "scrolled": false
   },
   "outputs": [
    {
     "ename": "NameError",
     "evalue": "name 'gdf' is not defined",
     "output_type": "error",
     "traceback": [
      "\u001b[0;31m---------------------------------------------------------------------------\u001b[0m",
      "\u001b[0;31mNameError\u001b[0m                                 Traceback (most recent call last)",
      "\u001b[0;32m<ipython-input-9-b9e5a6ff3551>\u001b[0m in \u001b[0;36m<module>\u001b[0;34m\u001b[0m\n\u001b[0;32m----> 1\u001b[0;31m \u001b[0mmerged\u001b[0m \u001b[0;34m=\u001b[0m \u001b[0mgdf\u001b[0m\u001b[0;34m.\u001b[0m\u001b[0mmerge\u001b[0m\u001b[0;34m(\u001b[0m\u001b[0mmap_data_cut\u001b[0m\u001b[0;34m,\u001b[0m \u001b[0mleft_on\u001b[0m\u001b[0;34m=\u001b[0m\u001b[0;34m'country_code'\u001b[0m\u001b[0;34m,\u001b[0m \u001b[0mright_on\u001b[0m\u001b[0;34m=\u001b[0m\u001b[0;34m'ISO3Code'\u001b[0m\u001b[0;34m)\u001b[0m\u001b[0;34m\u001b[0m\u001b[0;34m\u001b[0m\u001b[0m\n\u001b[0m\u001b[1;32m      2\u001b[0m \u001b[0mmerged\u001b[0m\u001b[0;34m.\u001b[0m\u001b[0mdescribe\u001b[0m\u001b[0;34m(\u001b[0m\u001b[0;34m)\u001b[0m\u001b[0;34m\u001b[0m\u001b[0;34m\u001b[0m\u001b[0m\n",
      "\u001b[0;31mNameError\u001b[0m: name 'gdf' is not defined"
     ]
    }
   ],
   "source": [
    "merged = gdf.merge(map_data_cut, left_on='country_code', right_on='ISO3Code')\n",
    "merged.describe()"
   ]
  },
  {
   "cell_type": "markdown",
   "metadata": {},
   "source": [
    "# Maps"
   ]
  },
  {
   "cell_type": "code",
   "execution_count": null,
   "metadata": {},
   "outputs": [],
   "source": []
  },
  {
   "cell_type": "code",
   "execution_count": 7,
   "metadata": {},
   "outputs": [
    {
     "ename": "NameError",
     "evalue": "name 'merged' is not defined",
     "output_type": "error",
     "traceback": [
      "\u001b[0;31m---------------------------------------------------------------------------\u001b[0m",
      "\u001b[0;31mNameError\u001b[0m                                 Traceback (most recent call last)",
      "\u001b[0;32m<ipython-input-7-bd20995ede2a>\u001b[0m in \u001b[0;36m<module>\u001b[0;34m\u001b[0m\n\u001b[1;32m      1\u001b[0m \u001b[0;31m#Read data to json.\u001b[0m\u001b[0;34m\u001b[0m\u001b[0;34m\u001b[0m\u001b[0;34m\u001b[0m\u001b[0m\n\u001b[0;32m----> 2\u001b[0;31m \u001b[0mmerged_json\u001b[0m \u001b[0;34m=\u001b[0m \u001b[0mjson\u001b[0m\u001b[0;34m.\u001b[0m\u001b[0mloads\u001b[0m\u001b[0;34m(\u001b[0m\u001b[0mmerged\u001b[0m\u001b[0;34m.\u001b[0m\u001b[0mto_json\u001b[0m\u001b[0;34m(\u001b[0m\u001b[0;34m)\u001b[0m\u001b[0;34m)\u001b[0m\u001b[0;34m\u001b[0m\u001b[0;34m\u001b[0m\u001b[0m\n\u001b[0m\u001b[1;32m      3\u001b[0m \u001b[0;34m\u001b[0m\u001b[0m\n\u001b[1;32m      4\u001b[0m \u001b[0;31m#Convert to String like object.\u001b[0m\u001b[0;34m\u001b[0m\u001b[0;34m\u001b[0m\u001b[0;34m\u001b[0m\u001b[0m\n\u001b[1;32m      5\u001b[0m \u001b[0mjson_data\u001b[0m \u001b[0;34m=\u001b[0m \u001b[0mjson\u001b[0m\u001b[0;34m.\u001b[0m\u001b[0mdumps\u001b[0m\u001b[0;34m(\u001b[0m\u001b[0mmerged_json\u001b[0m\u001b[0;34m)\u001b[0m\u001b[0;34m\u001b[0m\u001b[0;34m\u001b[0m\u001b[0m\n",
      "\u001b[0;31mNameError\u001b[0m: name 'merged' is not defined"
     ]
    }
   ],
   "source": [
    "#Read data to json.\n",
    "merged_json = json.loads(merged.to_json())\n",
    "\n",
    "#Convert to String like object.\n",
    "json_data = json.dumps(merged_json)"
   ]
  },
  {
   "cell_type": "code",
   "execution_count": null,
   "metadata": {},
   "outputs": [],
   "source": [
    "maps_cols = ['Date', 'DisplayName', 'ISO3Code', 'CumulativeReportedCases', 'CumulativeReportedCasesPer100K']\n",
    "\n",
    "maps_df = countries_df[maps_cols]"
   ]
  },
  {
   "cell_type": "code",
   "execution_count": null,
   "metadata": {},
   "outputs": [],
   "source": [
    "min_date = maps_df['Date'].min()\n",
    "max_date = maps_df['Date'].max()\n",
    "cutpoint = '2020-04-15'"
   ]
  },
  {
   "cell_type": "code",
   "execution_count": null,
   "metadata": {},
   "outputs": [],
   "source": [
    "map_data_start = maps_df[maps_df['Date'] == min_date]\n",
    "map_data_cut = maps_df[maps_df['Date'] == cutpoint]"
   ]
  },
  {
   "cell_type": "code",
   "execution_count": null,
   "metadata": {},
   "outputs": [],
   "source": [
    "fig_map_cut = go.Figure()\n",
    "    \n",
    "fig_map_cut.add_trace(go.Choropleth(\n",
    "    locations = map_data_cut['ISO3Code'],\n",
    "    z = np.log(map_data_cut['CumulativeReportedCases']),\n",
    "    colorscale = 'Blues',\n",
    "    marker_line_color='darkgray',\n",
    "    showlegend=False,\n",
    "    showscale=True,\n",
    "    colorbar=dict(\n",
    "        title=\"Number of Cases\",\n",
    "        tick0=0,\n",
    "        tickmode='array',\n",
    "        tickvals=np.log([1, 10, 100, 1000, 10000, 1000000]),\n",
    "        ticktext=['1', '10', '100', '1000', '10000', '1000000'],\n",
    "    )\n",
    "))\n",
    "\n",
    "fig_map_cut.update_geos(\n",
    "    showland=True, \n",
    "    lataxis_range=[-60,90], \n",
    "    lonaxis_range=[-180, 180],\n",
    "    #fitbounds=\"locations\"\n",
    ")\n",
    "fig_map_cut.update_layout(\n",
    "    title_text='Cumulative Reported Cases By 2020/04/15',\n",
    "    geo=dict(\n",
    "        showframe=False,\n",
    "        showcoastlines=True,\n",
    "        projection_type='equirectangular'\n",
    "    ),\n",
    "    autosize=False,\n",
    "    width=900,\n",
    "    height=500,\n",
    "    #margin=dict(l=0, r=0, t=0, b=0),\n",
    ")\n",
    "\n",
    "fig_map_cut.show()"
   ]
  },
  {
   "cell_type": "code",
   "execution_count": null,
   "metadata": {},
   "outputs": [],
   "source": [
    "fig_map_cut.write_image(os.path.join(figures_path, \"world_map_cut.pdf\"))"
   ]
  },
  {
   "cell_type": "code",
   "execution_count": null,
   "metadata": {},
   "outputs": [],
   "source": [
    "fig_map_start = go.Figure()\n",
    "    \n",
    "fig_map_start.add_trace(go.Choropleth(\n",
    "    locations = map_data_start['ISO3Code'],\n",
    "    z = np.log(map_data_start['CumulativeReportedCases']),\n",
    "    colorscale = 'Blues',\n",
    "    marker_line_color='darkgray',\n",
    "    showlegend=False,\n",
    "    showscale=True,\n",
    "    colorbar=dict(\n",
    "        title=\"Number of Cases\",\n",
    "        tick0=0,\n",
    "        tickmode='array',\n",
    "        tickvals=np.log([1, 10, 100, 1000, 10000, 1000000]),\n",
    "        ticktext=['1', '10', '100', '1000', '10000', '1000000'],\n",
    "    ),\n",
    "    #paper_bgcolor='rgb(233,233,233)'\n",
    "))\n",
    "\n",
    "fig_map_start.update_geos(\n",
    "    showland=True, \n",
    "    lataxis_range=[-60,90], \n",
    "    lonaxis_range=[-180, 180],\n",
    "    #fitbounds=\"locations\"\n",
    ")\n",
    "fig_map_start.update_layout(\n",
    "    title_text='Cumulative Reported Cases By 2020/01/22',\n",
    "    geo=dict(\n",
    "        showframe=False,\n",
    "        showcoastlines=True,\n",
    "        projection_type='equirectangular',\n",
    "        \n",
    "    ),\n",
    "    autosize=False,\n",
    "    width=900,\n",
    "    height=500,\n",
    "    #margin=dict(l=0, r=0, t=0, b=0),\n",
    ")\n",
    "\n",
    "fig_map_start.show()"
   ]
  },
  {
   "cell_type": "code",
   "execution_count": null,
   "metadata": {},
   "outputs": [],
   "source": [
    "fig_map_start.write_image(os.path.join(figures_path, \"world_map_start.pdf\"))"
   ]
  },
  {
   "cell_type": "markdown",
   "metadata": {},
   "source": [
    "## Reported Cases"
   ]
  },
  {
   "cell_type": "code",
   "execution_count": null,
   "metadata": {
    "scrolled": true
   },
   "outputs": [],
   "source": [
    "d['df_confirmed'][['Date', 'DisplayName', 'DailyReportedCases']]"
   ]
  },
  {
   "cell_type": "markdown",
   "metadata": {},
   "source": [
    "## Cumulative Cases"
   ]
  },
  {
   "cell_type": "markdown",
   "metadata": {},
   "source": [
    "### World-wide"
   ]
  },
  {
   "cell_type": "code",
   "execution_count": null,
   "metadata": {
    "scrolled": false
   },
   "outputs": [],
   "source": [
    "# Plot time series \n",
    "fig, ax = plt.subplots(figsize=(11,8.5))\n",
    "\n",
    "labels = ['Reported Cases', 'Reported Deaths', 'Reported Recovered']\n",
    "colors = ['blue', 'tomato', 'black']\n",
    "\n",
    "#df_world.plot(figsize=(11,8.5), linewidth=2, marker='.', fontsize=20, legend=False)\n",
    "for idx, value in enumerate(d_world.values()):\n",
    "    df = value[['Date', 'CumulativeReportedCases']].set_index('Date')\n",
    "    df.index = pd.to_datetime(df.index)\n",
    "    ax.plot(df.index, df['CumulativeReportedCases'], label=labels[idx], color=colors[idx])\n",
    "\n",
    "plt.xlabel('Date', fontsize=20)\n",
    "plt.ylabel('Cumulative Reported Cases Count', fontsize=20)\n",
    "\n",
    "plt.title('Reported Cases Time Series World-Wide', fontsize=20)\n",
    "plt.legend()\n",
    "\n",
    "plt.show()"
   ]
  },
  {
   "cell_type": "markdown",
   "metadata": {},
   "source": [
    "### By Country"
   ]
  },
  {
   "cell_type": "markdown",
   "metadata": {},
   "source": [
    "#### Confirmed"
   ]
  },
  {
   "cell_type": "code",
   "execution_count": null,
   "metadata": {},
   "outputs": [],
   "source": [
    "confirmed_country = d['df_confirmed'][['Date', 'DisplayName', 'CumulativeReportedCases']].pivot(index='Date', columns='DisplayName',\n",
    "                                                                           values='CumulativeReportedCases')"
   ]
  },
  {
   "cell_type": "code",
   "execution_count": null,
   "metadata": {
    "scrolled": true
   },
   "outputs": [],
   "source": [
    "# Set index as DateTimeIndex\n",
    "datetime_index = pd.DatetimeIndex(confirmed_country.index)\n",
    "confirmed_country.set_index(datetime_index, inplace=True)\n",
    "# Check out index\n",
    "#confirmed_country.index"
   ]
  },
  {
   "cell_type": "code",
   "execution_count": null,
   "metadata": {
    "scrolled": false
   },
   "outputs": [],
   "source": [
    "# Plot time series \n",
    "confirmed_country.plot(figsize=(11,8.5), linewidth=2, marker='.', fontsize=20, legend=False)\n",
    "\n",
    "plt.xlabel('Date', fontsize=20)\n",
    "plt.ylabel('Cumulative Reported Cases Count', fontsize=20)\n",
    "\n",
    "plt.title('Reported Cases Time Series (per Country)', fontsize=20)\n",
    "\n",
    "plt.show()"
   ]
  },
  {
   "cell_type": "code",
   "execution_count": null,
   "metadata": {},
   "outputs": [],
   "source": [
    "# Plot time series \n",
    "confirmed_country.plot(figsize=(11,8.5), linewidth=2, marker='.', fontsize=20, legend=False)\n",
    "\n",
    "plt.yscale('log')\n",
    "\n",
    "plt.grid(True, which=\"both\", axis='y')\n",
    "\n",
    "plt.xlabel('Date', fontsize=20)\n",
    "plt.ylabel('Log(Cumulative Reported Cases Count)', fontsize=20)\n",
    "\n",
    "plt.title('Reported Cases Time Series (per Country)', fontsize=20)\n",
    "\n",
    "plt.show()"
   ]
  },
  {
   "cell_type": "markdown",
   "metadata": {},
   "source": [
    "#### Death"
   ]
  },
  {
   "cell_type": "code",
   "execution_count": null,
   "metadata": {},
   "outputs": [],
   "source": [
    "death_country= d['df_death'][['Date', 'DisplayName', 'CumulativeReportedCases']].pivot(index='Date', columns='DisplayName',\n",
    "                                                                           values='CumulativeReportedCases')"
   ]
  },
  {
   "cell_type": "code",
   "execution_count": null,
   "metadata": {
    "scrolled": true
   },
   "outputs": [],
   "source": [
    "# Set index as DateTimeIndex\n",
    "datetime_index = pd.DatetimeIndex(death_country.index)\n",
    "death_country.set_index(datetime_index, inplace=True)\n",
    "# Check out index\n",
    "#confirmed_country.index"
   ]
  },
  {
   "cell_type": "code",
   "execution_count": null,
   "metadata": {
    "scrolled": false
   },
   "outputs": [],
   "source": [
    "# Plot time series of several countries of interest\n",
    "death_country.plot(figsize=(11,8.5), linewidth=2, marker='.', fontsize=20, legend=False)\n",
    "\n",
    "plt.xlabel('Date', fontsize=20)\n",
    "plt.ylabel('Cumulative Reported Deatch Cases Count', fontsize=20)\n",
    "\n",
    "plt.title('Reported Death Cases Time Series (per Country)', fontsize=20)\n",
    "\n",
    "plt.show()"
   ]
  },
  {
   "cell_type": "code",
   "execution_count": null,
   "metadata": {},
   "outputs": [],
   "source": [
    "# Plot time series of several countries of interest\n",
    "death_country.plot(figsize=(11,8.5), linewidth=2, marker='.', fontsize=20, legend=False)\n",
    "\n",
    "plt.yscale('log')\n",
    "\n",
    "plt.grid(True,which=\"both\", axis='y')\n",
    "\n",
    "plt.xlabel('Date', fontsize=20)\n",
    "plt.ylabel('Log(Cumulative Death Cases Count)', fontsize=20)\n",
    "\n",
    "plt.title('Reported Deaths Time Series (per Country)', fontsize=20)\n",
    "\n",
    "plt.show()"
   ]
  },
  {
   "cell_type": "markdown",
   "metadata": {},
   "source": [
    "## World Maps"
   ]
  },
  {
   "cell_type": "code",
   "execution_count": null,
   "metadata": {},
   "outputs": [],
   "source": []
  },
  {
   "cell_type": "code",
   "execution_count": null,
   "metadata": {
    "scrolled": false
   },
   "outputs": [],
   "source": [
    "import plotly.express as px\n",
    "\n",
    "df = d['df_confirmed']\n",
    "df = df[df['date'] == df['date'].max()]\n",
    "\n",
    "\n",
    "#avg_lifeExp = (df['lifeExp']*df['pop']).sum()/df['pop'].sum()\n",
    "\n",
    "fig = px.choropleth(df, locations=\"iso3Code\", color=np.log10(df[\"cumulative_per_100K\"]),\n",
    "                    color_continuous_scale=px.colors.sequential.Blues,\n",
    "                    #title=\"Cumulative Reported Cases per 100K\",\n",
    "                    hover_name=\"Country.Region\", hover_data=[\"cumulative_per_100K\"]\n",
    "                   )\n",
    "\n",
    "#fig.update_layout(coloraxis_colorbar=dict(\n",
    "#    title=\"Cumulative Reported Cases per 100K\",\n",
    "#    tickvals=[-2.45, np.log10(1), np.log10(10), np.log10(100), 3],\n",
    "#    ticktext=[\"0\", \"1\", \"10\", \"100\", \"1000\"],\n",
    "#))\n",
    "\n",
    "fig.update_layout(showlegend=False)\n",
    "\n",
    "fig.update_layout(margin={\"r\":0,\"t\":0,\"l\":0,\"b\":0})\n",
    "\n",
    "fig.show()\n",
    "\n"
   ]
  },
  {
   "cell_type": "code",
   "execution_count": null,
   "metadata": {},
   "outputs": [],
   "source": []
  }
 ],
 "metadata": {
  "kernelspec": {
   "display_name": "Python 3",
   "language": "python",
   "name": "python3"
  },
  "language_info": {
   "codemirror_mode": {
    "name": "ipython",
    "version": 3
   },
   "file_extension": ".py",
   "mimetype": "text/x-python",
   "name": "python",
   "nbconvert_exporter": "python",
   "pygments_lexer": "ipython3",
   "version": "3.7.3"
  },
  "varInspector": {
   "cols": {
    "lenName": 16,
    "lenType": 16,
    "lenVar": 40
   },
   "kernels_config": {
    "python": {
     "delete_cmd_postfix": "",
     "delete_cmd_prefix": "del ",
     "library": "var_list.py",
     "varRefreshCmd": "print(var_dic_list())"
    },
    "r": {
     "delete_cmd_postfix": ") ",
     "delete_cmd_prefix": "rm(",
     "library": "var_list.r",
     "varRefreshCmd": "cat(var_dic_list()) "
    }
   },
   "types_to_exclude": [
    "module",
    "function",
    "builtin_function_or_method",
    "instance",
    "_Feature"
   ],
   "window_display": false
  }
 },
 "nbformat": 4,
 "nbformat_minor": 2
}
