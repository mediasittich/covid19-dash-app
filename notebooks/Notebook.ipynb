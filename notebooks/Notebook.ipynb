{
 "cells": [
  {
   "cell_type": "markdown",
   "metadata": {},
   "source": [
    "## Import Libraries"
   ]
  },
  {
   "cell_type": "code",
   "execution_count": 4,
   "metadata": {},
   "outputs": [],
   "source": [
    "\n",
    "import os\n",
    "from pathlib import Path\n",
    "\n",
    "# Display options\n",
    "from IPython.display import display, Math, Latex\n",
    "\n",
    "# Data processing\n",
    "import numpy as np\n",
    "import pandas as pd\n",
    "\n",
    "# Data visualisation\n",
    "import matplotlib.pyplot as plt\n",
    "%matplotlib inline\n",
    "import matplotlib.dates as mdates\n",
    "import seaborn as sns\n",
    "sns.set()\n",
    "\n",
    "# Additional resources\n",
    "import iso3166\n",
    "from iso3166 import countries, countries_by_name # ISO data for countries\n",
    "import world_bank_data as wb # World Bank Data for population data"
   ]
  },
  {
   "cell_type": "code",
   "execution_count": 5,
   "metadata": {},
   "outputs": [],
   "source": [
    "from scipy.stats.mstats import gmean\n",
    "from numpy import log as ln"
   ]
  },
  {
   "cell_type": "code",
   "execution_count": 6,
   "metadata": {},
   "outputs": [],
   "source": [
    "notebook_path = os.path.abspath(\"Notebook.ipynb\")\n",
    "project_path = Path(notebook_path).parent.parent\n",
    "\n",
    "data_path = os.path.join(project_path, 'data')\n",
    "external_data_path = os.path.join(data_path, 'external', '')\n",
    "processed_data_path = os.path.join(data_path, 'processed', '')"
   ]
  },
  {
   "cell_type": "code",
   "execution_count": 7,
   "metadata": {},
   "outputs": [
    {
     "data": {
      "text/plain": [
       "{'ALB': '2020-03-12',\n",
       " 'AND': '2020-03-12',\n",
       " 'AUT': '2020-03-05',\n",
       " 'BEL': '2020-03-17',\n",
       " 'BGR': '2020-04-09',\n",
       " 'BIH': '2020-03-19',\n",
       " 'CHE': '2020-03-16',\n",
       " 'CZE': '2020-03-14',\n",
       " 'DEU': '2020-03-08',\n",
       " 'DNK': '2020-03-02',\n",
       " 'ESP': '2020-03-13',\n",
       " 'EST': '2020-03-28',\n",
       " 'FIN': '2020-03-15',\n",
       " 'FRA': '2020-03-16',\n",
       " 'GBR': '2020-03-22',\n",
       " 'GRC': '2020-03-22',\n",
       " 'HRV': '2020-03-22',\n",
       " 'HUN': '2020-03-27',\n",
       " 'IRL': '2020-03-25',\n",
       " 'ISL': '2020-05-04',\n",
       " 'ITA': '2020-02-22',\n",
       " 'LUX': '2020-03-16',\n",
       " 'MDA': '2020-03-23',\n",
       " 'NLD': '2020-03-11',\n",
       " 'NOR': '2020-05-04',\n",
       " 'POL': '2020-03-30',\n",
       " 'PRT': '2020-04-17',\n",
       " 'ROU': '2020-03-11',\n",
       " 'SMR': '2020-04-16',\n",
       " 'SRB': '2020-03-14',\n",
       " 'SVK': '2020-03-11',\n",
       " 'SVN': '2020-03-13',\n",
       " 'SWE': '2020-05-04',\n",
       " 'UKR': '2020-03-19'}"
      ]
     },
     "execution_count": 7,
     "metadata": {},
     "output_type": "execute_result"
    }
   ],
   "source": [
    "{\n",
    "    'ALB': '2020-03-12',\n",
    "    'AND': '2020-03-12',\n",
    "    'AUT': '2020-03-05',\n",
    "    'BEL': '2020-03-17',\n",
    "    'BGR': '2020-04-09',\n",
    "    'BIH': '2020-03-19',\n",
    "    'CHE': '2020-03-16',\n",
    "    'CZE': '2020-03-14',\n",
    "    'DEU': '2020-03-08',\n",
    "    'DNK': '2020-03-02',\n",
    "    'ESP': '2020-03-13',\n",
    "    'EST': '2020-03-28',\n",
    "    'FIN': '2020-03-15',\n",
    "    'FRA': '2020-03-16',\n",
    "    'GBR': '2020-03-22',\n",
    "    'GRC': '2020-03-22',\n",
    "    'HRV': '2020-03-22',\n",
    "    'HUN': '2020-03-27',\n",
    "    'IRL': '2020-03-25',\n",
    "    'ISL': '2020-05-04',\n",
    "    'ITA': '2020-02-22',\n",
    "    'LUX': '2020-03-16',\n",
    "    'MDA': '2020-03-23',\n",
    "    'NLD': '2020-03-11',\n",
    "    'NOR': '2020-05-04',\n",
    "    'POL': '2020-03-30',\n",
    "    'PRT': '2020-04-17',\n",
    "    'ROU': '2020-03-11',\n",
    "    'SMR': '2020-04-16',\n",
    "    'SRB': '2020-03-14',\n",
    "    'SVK': '2020-03-11',\n",
    "    'SVN': '2020-03-13',\n",
    "    'SWE': '2020-05-04',\n",
    "    'UKR': '2020-03-19'\n",
    "}"
   ]
  },
  {
   "cell_type": "markdown",
   "metadata": {},
   "source": [
    "# COVID-19 Data"
   ]
  },
  {
   "cell_type": "markdown",
   "metadata": {},
   "source": [
    "## Get Corona Dataset\n",
    "\n",
    "- Load raw data from GitHub repository -> raw_data_all\n",
    "- Inspect dataset"
   ]
  },
  {
   "cell_type": "markdown",
   "metadata": {},
   "source": [
    "### Load Dataset"
   ]
  },
  {
   "cell_type": "code",
   "execution_count": 8,
   "metadata": {
    "scrolled": true
   },
   "outputs": [],
   "source": [
    "# Load Dataset (Source: RamiKrispin GitHub)\n",
    "\n",
    "# Assign repository URL\n",
    "dataset_url = 'https://raw.githubusercontent.com/RamiKrispin/coronavirus-csv/master/coronavirus_dataset.csv'\n",
    "\n",
    "# Load dataset to dataframe\n",
    "raw_data_all = pd.read_csv(dataset_url)"
   ]
  },
  {
   "cell_type": "markdown",
   "metadata": {},
   "source": [
    " ### Inspect Dataset"
   ]
  },
  {
   "cell_type": "code",
   "execution_count": 9,
   "metadata": {},
   "outputs": [
    {
     "data": {
      "text/html": [
       "<div>\n",
       "<style scoped>\n",
       "    .dataframe tbody tr th:only-of-type {\n",
       "        vertical-align: middle;\n",
       "    }\n",
       "\n",
       "    .dataframe tbody tr th {\n",
       "        vertical-align: top;\n",
       "    }\n",
       "\n",
       "    .dataframe thead th {\n",
       "        text-align: right;\n",
       "    }\n",
       "</style>\n",
       "<table border=\"1\" class=\"dataframe\">\n",
       "  <thead>\n",
       "    <tr style=\"text-align: right;\">\n",
       "      <th></th>\n",
       "      <th>Province.State</th>\n",
       "      <th>Country.Region</th>\n",
       "      <th>Lat</th>\n",
       "      <th>Long</th>\n",
       "      <th>date</th>\n",
       "      <th>cases</th>\n",
       "      <th>type</th>\n",
       "    </tr>\n",
       "  </thead>\n",
       "  <tbody>\n",
       "    <tr>\n",
       "      <th>0</th>\n",
       "      <td>NaN</td>\n",
       "      <td>Afghanistan</td>\n",
       "      <td>33.0</td>\n",
       "      <td>65.0</td>\n",
       "      <td>2020-01-22</td>\n",
       "      <td>0</td>\n",
       "      <td>confirmed</td>\n",
       "    </tr>\n",
       "    <tr>\n",
       "      <th>1</th>\n",
       "      <td>NaN</td>\n",
       "      <td>Afghanistan</td>\n",
       "      <td>33.0</td>\n",
       "      <td>65.0</td>\n",
       "      <td>2020-01-23</td>\n",
       "      <td>0</td>\n",
       "      <td>confirmed</td>\n",
       "    </tr>\n",
       "    <tr>\n",
       "      <th>2</th>\n",
       "      <td>NaN</td>\n",
       "      <td>Afghanistan</td>\n",
       "      <td>33.0</td>\n",
       "      <td>65.0</td>\n",
       "      <td>2020-01-24</td>\n",
       "      <td>0</td>\n",
       "      <td>confirmed</td>\n",
       "    </tr>\n",
       "    <tr>\n",
       "      <th>3</th>\n",
       "      <td>NaN</td>\n",
       "      <td>Afghanistan</td>\n",
       "      <td>33.0</td>\n",
       "      <td>65.0</td>\n",
       "      <td>2020-01-25</td>\n",
       "      <td>0</td>\n",
       "      <td>confirmed</td>\n",
       "    </tr>\n",
       "    <tr>\n",
       "      <th>4</th>\n",
       "      <td>NaN</td>\n",
       "      <td>Afghanistan</td>\n",
       "      <td>33.0</td>\n",
       "      <td>65.0</td>\n",
       "      <td>2020-01-26</td>\n",
       "      <td>0</td>\n",
       "      <td>confirmed</td>\n",
       "    </tr>\n",
       "  </tbody>\n",
       "</table>\n",
       "</div>"
      ],
      "text/plain": [
       "  Province.State Country.Region   Lat  Long        date  cases       type\n",
       "0            NaN    Afghanistan  33.0  65.0  2020-01-22      0  confirmed\n",
       "1            NaN    Afghanistan  33.0  65.0  2020-01-23      0  confirmed\n",
       "2            NaN    Afghanistan  33.0  65.0  2020-01-24      0  confirmed\n",
       "3            NaN    Afghanistan  33.0  65.0  2020-01-25      0  confirmed\n",
       "4            NaN    Afghanistan  33.0  65.0  2020-01-26      0  confirmed"
      ]
     },
     "execution_count": 9,
     "metadata": {},
     "output_type": "execute_result"
    }
   ],
   "source": [
    "# Print dataframe head\n",
    "raw_data_all.head()"
   ]
  },
  {
   "cell_type": "code",
   "execution_count": 10,
   "metadata": {},
   "outputs": [
    {
     "name": "stdout",
     "output_type": "stream",
     "text": [
      "Size/Shape of the dataset (rows,cols):  (79968, 7)\n",
      "\n",
      "\n",
      "Missing values per column:\n",
      "Province.State    56406\n",
      "Country.Region        0\n",
      "Lat                   0\n",
      "Long                  0\n",
      "date                  0\n",
      "cases                 0\n",
      "type                  0\n",
      "dtype: int64\n",
      "\n",
      "\n",
      "Data type of each column:\n",
      "Province.State     object\n",
      "Country.Region     object\n",
      "Lat               float64\n",
      "Long              float64\n",
      "date               object\n",
      "cases               int64\n",
      "type               object\n",
      "dtype: object\n"
     ]
    }
   ],
   "source": [
    "# Print basic information about dataset\n",
    "print('Size/Shape of the dataset (rows,cols): ', raw_data_all.shape)\n",
    "print('\\n')\n",
    "print('Missing values per column:')\n",
    "print(raw_data_all.isnull().sum())\n",
    "print('\\n')\n",
    "print('Data type of each column:')\n",
    "print(raw_data_all.dtypes)"
   ]
  },
  {
   "cell_type": "code",
   "execution_count": 11,
   "metadata": {},
   "outputs": [
    {
     "name": "stdout",
     "output_type": "stream",
     "text": [
      "The total number of provinces/states with COVID-19 cases = 83\n"
     ]
    }
   ],
   "source": [
    "# Total number of reported Provinces/States\n",
    "province_list = raw_data_all['Province.State'].unique()\n",
    "print(\"The total number of provinces/states with COVID-19 cases = {}\".format(province_list.size))"
   ]
  },
  {
   "cell_type": "code",
   "execution_count": 12,
   "metadata": {},
   "outputs": [
    {
     "name": "stdout",
     "output_type": "stream",
     "text": [
      "Total number of countries with COVID-19 cases = 187\n"
     ]
    }
   ],
   "source": [
    "# Total number of reported Countries/Regions\n",
    "country_list = raw_data_all['Country.Region'].unique()\n",
    "print(\"Total number of countries with COVID-19 cases = {}\".format(country_list.size))"
   ]
  },
  {
   "cell_type": "code",
   "execution_count": 13,
   "metadata": {},
   "outputs": [
    {
     "name": "stdout",
     "output_type": "stream",
     "text": [
      "First date in dataset = 2020-01-22\n",
      "Last date in dataset = 2020-05-02\n"
     ]
    }
   ],
   "source": [
    "# Date range in 'date'\n",
    "print(\"First date in dataset = {}\".format(raw_data_all['date'].min()))\n",
    "print(\"Last date in dataset = {}\".format(raw_data_all['date'].max()))"
   ]
  },
  {
   "cell_type": "code",
   "execution_count": 14,
   "metadata": {},
   "outputs": [
    {
     "name": "stdout",
     "output_type": "stream",
     "text": [
      "Types of reported cases: ['confirmed' 'death' 'recovered']\n"
     ]
    }
   ],
   "source": [
    "# Unique values in 'type'\n",
    "print(\"Types of reported cases: {}\".format(raw_data_all['type'].unique()))"
   ]
  },
  {
   "cell_type": "markdown",
   "metadata": {},
   "source": [
    "## Pre-Processing\n",
    "\n",
    "- Merge Province.State into Country.Region column\n",
    "- Get ISO Data & World Bank Data about countries\n",
    "- Split dataset into 'confirmed', 'death', 'recovered'"
   ]
  },
  {
   "cell_type": "markdown",
   "metadata": {},
   "source": [
    "### Inspect Country data"
   ]
  },
  {
   "cell_type": "code",
   "execution_count": 15,
   "metadata": {},
   "outputs": [
    {
     "data": {
      "text/plain": [
       "array(['Afghanistan', 'Albania', 'Algeria', 'Andorra', 'Angola',\n",
       "       'Antigua and Barbuda', 'Argentina', 'Armenia', 'Austria',\n",
       "       'Azerbaijan', 'Bahamas', 'Bahrain', 'Bangladesh', 'Barbados',\n",
       "       'Belarus', 'Belgium', 'Belize', 'Benin', 'Bhutan', 'Bolivia',\n",
       "       'Bosnia and Herzegovina', 'Botswana', 'Brazil', 'Brunei',\n",
       "       'Bulgaria', 'Burkina Faso', 'Burma', 'Burundi', 'Cabo Verde',\n",
       "       'Cambodia', 'Cameroon', 'Central African Republic', 'Chad',\n",
       "       'Chile', 'Colombia', 'Comoros', 'Congo (Brazzaville)',\n",
       "       'Congo (Kinshasa)', 'Costa Rica', \"Cote d'Ivoire\", 'Croatia',\n",
       "       'Cuba', 'Cyprus', 'Czechia', 'Denmark', 'Diamond Princess',\n",
       "       'Djibouti', 'Dominica', 'Dominican Republic', 'Ecuador', 'Egypt',\n",
       "       'El Salvador', 'Equatorial Guinea', 'Eritrea', 'Estonia',\n",
       "       'Eswatini', 'Ethiopia', 'Fiji', 'Finland', 'France', 'Gabon',\n",
       "       'Gambia', 'Georgia', 'Germany', 'Ghana', 'Greece', 'Grenada',\n",
       "       'Guatemala', 'Guinea', 'Guinea-Bissau', 'Guyana', 'Haiti',\n",
       "       'Holy See', 'Honduras', 'Hungary', 'Iceland', 'India', 'Indonesia',\n",
       "       'Iran', 'Iraq', 'Ireland', 'Israel', 'Italy', 'Jamaica', 'Japan',\n",
       "       'Jordan', 'Kazakhstan', 'Kenya', 'Korea, South', 'Kosovo',\n",
       "       'Kuwait', 'Kyrgyzstan', 'Laos', 'Latvia', 'Lebanon', 'Liberia',\n",
       "       'Libya', 'Liechtenstein', 'Lithuania', 'Luxembourg', 'Madagascar',\n",
       "       'Malawi', 'Malaysia', 'Maldives', 'Mali', 'Malta', 'Mauritania',\n",
       "       'Mauritius', 'Mexico', 'Moldova', 'Monaco', 'Mongolia',\n",
       "       'Montenegro', 'Morocco', 'Mozambique', 'MS Zaandam', 'Namibia',\n",
       "       'Nepal', 'Netherlands', 'New Zealand', 'Nicaragua', 'Niger',\n",
       "       'Nigeria', 'North Macedonia', 'Norway', 'Oman', 'Pakistan',\n",
       "       'Panama', 'Papua New Guinea', 'Paraguay', 'Peru', 'Philippines',\n",
       "       'Poland', 'Portugal', 'Qatar', 'Romania', 'Russia', 'Rwanda',\n",
       "       'Saint Kitts and Nevis', 'Saint Lucia',\n",
       "       'Saint Vincent and the Grenadines', 'San Marino',\n",
       "       'Sao Tome and Principe', 'Saudi Arabia', 'Senegal', 'Serbia',\n",
       "       'Seychelles', 'Sierra Leone', 'Singapore', 'Slovakia', 'Slovenia',\n",
       "       'Somalia', 'South Africa', 'South Sudan', 'Spain', 'Sri Lanka',\n",
       "       'Sudan', 'Suriname', 'Sweden', 'Switzerland', 'Syria', 'Taiwan*',\n",
       "       'Tajikistan', 'Tanzania', 'Thailand', 'Timor-Leste', 'Togo',\n",
       "       'Trinidad and Tobago', 'Tunisia', 'Turkey', 'Uganda', 'Ukraine',\n",
       "       'United Arab Emirates', 'United Kingdom', 'Uruguay', 'US',\n",
       "       'Uzbekistan', 'Venezuela', 'Vietnam', 'West Bank and Gaza',\n",
       "       'Western Sahara', 'Yemen', 'Zambia', 'Zimbabwe', 'Canada', 'China',\n",
       "       'Australia'], dtype=object)"
      ]
     },
     "execution_count": 15,
     "metadata": {},
     "output_type": "execute_result"
    }
   ],
   "source": [
    "raw_data_all['Country.Region'].unique()"
   ]
  },
  {
   "cell_type": "markdown",
   "metadata": {},
   "source": [
    "### Remove Cruise Ships"
   ]
  },
  {
   "cell_type": "code",
   "execution_count": 16,
   "metadata": {},
   "outputs": [
    {
     "data": {
      "text/plain": [
       "(79968, 7)"
      ]
     },
     "execution_count": 16,
     "metadata": {},
     "output_type": "execute_result"
    }
   ],
   "source": [
    "raw_data_all.shape"
   ]
  },
  {
   "cell_type": "code",
   "execution_count": 17,
   "metadata": {},
   "outputs": [],
   "source": [
    "# Cruise ships\n",
    "ships = ['Diamond Princess', 'MS Zaandam', 'Grand Princess']"
   ]
  },
  {
   "cell_type": "code",
   "execution_count": 18,
   "metadata": {},
   "outputs": [],
   "source": [
    "# Remove cruise ship data from dataset\n",
    "for ship in ships:\n",
    "    # Create list of index labels\n",
    "    index_names = raw_data_all[(raw_data_all['Province.State'] == ship) | (raw_data_all['Country.Region'] == ship)].index\n",
    "    # Delete rows with labels\n",
    "    raw_data_all.drop(index_names, inplace=True)"
   ]
  },
  {
   "cell_type": "code",
   "execution_count": 19,
   "metadata": {},
   "outputs": [
    {
     "data": {
      "text/plain": [
       "(78948, 7)"
      ]
     },
     "execution_count": 19,
     "metadata": {},
     "output_type": "execute_result"
    }
   ],
   "source": [
    "raw_data_all.shape"
   ]
  },
  {
   "cell_type": "markdown",
   "metadata": {},
   "source": [
    "### Clean up Provice.State\n",
    "\n",
    "**Goal:** only Country should remain to specify location"
   ]
  },
  {
   "cell_type": "code",
   "execution_count": 20,
   "metadata": {},
   "outputs": [],
   "source": [
    "# Create temporary data frame: Select all row where 'Province.State' != NaN\n",
    "temp_df_notna = raw_data_all[pd.notna(raw_data_all['Province.State'])]"
   ]
  },
  {
   "cell_type": "code",
   "execution_count": 21,
   "metadata": {},
   "outputs": [],
   "source": [
    "# Provinces: Sum up data in Provinces of China and Australia\n",
    "temp_df_province = temp_df_notna[(temp_df_notna['Country.Region'] == 'China') | (temp_df_notna['Country.Region'] == 'Australia')]\n",
    "\n",
    "# Group data by Country.Region, data and type - this removes Province.State column\n",
    "# Sum cases within groups\n",
    "# Ungroup to reset index\n",
    "temp_df_province = temp_df_province.groupby(['Country.Region', 'date', 'type']) \\\n",
    "                                    .sum() \\\n",
    "                                    .reset_index() "
   ]
  },
  {
   "cell_type": "code",
   "execution_count": 22,
   "metadata": {
    "scrolled": true
   },
   "outputs": [],
   "source": [
    "# Rename former Colonies: Select all data where Country is not China, Australia or Canada. Delete original Country name column and replace it with Province names.\n",
    "# Select all rows where Country is neither China, nor Australia or Canada\n",
    "# Delete column 'Country.Region' and rename 'Province.State' column to 'Country.Region'\n",
    "temp_df_colonies = temp_df_notna[(temp_df_notna['Country.Region'] != 'China') \n",
    "                                 & (temp_df_notna['Country.Region'] != 'Australia')\n",
    "                                & (temp_df_notna['Country.Region'] != 'Canada')] \\\n",
    "                                .drop('Country.Region', axis=1) \\\n",
    "                                .rename(columns={'Province.State': 'Country.Region'})"
   ]
  },
  {
   "cell_type": "code",
   "execution_count": 23,
   "metadata": {},
   "outputs": [],
   "source": [
    "# Province == NaN: Remove Province.State column from all rows where Country is not Canada\n",
    "# Select all rows where Country != Canada\n",
    "temp_df_not_canada = raw_data_all[raw_data_all['Country.Region'] != 'Canada']\n",
    "\n",
    "# Select all rows where Province is NaN\n",
    "temp_df_not_canada = temp_df_not_canada[temp_df_not_canada['Province.State'].isna()]\n",
    "\n",
    "# Delete Province column\n",
    "temp_df_not_canada = temp_df_not_canada.drop('Province.State', axis=1)"
   ]
  },
  {
   "cell_type": "code",
   "execution_count": 24,
   "metadata": {},
   "outputs": [],
   "source": [
    "# Canada: Select all rows where Country.Region is Canada\n",
    "temp_df_canada = raw_data_all[raw_data_all['Country.Region'] == 'Canada']\n",
    "\n",
    "# Group data by Country.Region, data and type - this removes Province.State column\n",
    "# Sum cases within groups\n",
    "# Ungroup to reset index\n",
    "temp_df_canada = temp_df_canada.groupby(['Country.Region', 'date', 'type']) \\\n",
    "                                    .sum() \\\n",
    "                                    .reset_index()"
   ]
  },
  {
   "cell_type": "code",
   "execution_count": 25,
   "metadata": {},
   "outputs": [
    {
     "name": "stdout",
     "output_type": "stream",
     "text": [
      "Shape where Country is not Canada:\n",
      "(55692, 6)\n",
      "Shape where Country is Canada:\n",
      "(306, 6)\n",
      "Shape of Provinces in China or Australia:\n",
      "(612, 6)\n",
      "Shape of Colonies:\n",
      "(7956, 6)\n"
     ]
    }
   ],
   "source": [
    "# Print all shapes\n",
    "print(\"Shape where Country is not Canada:\")\n",
    "print(temp_df_not_canada.shape)\n",
    "print(\"Shape where Country is Canada:\")\n",
    "print(temp_df_canada.shape)\n",
    "print(\"Shape of Provinces in China or Australia:\")\n",
    "print(temp_df_province.shape)\n",
    "print(\"Shape of Colonies:\")\n",
    "print(temp_df_colonies.shape)"
   ]
  },
  {
   "cell_type": "code",
   "execution_count": 26,
   "metadata": {},
   "outputs": [
    {
     "name": "stdout",
     "output_type": "stream",
     "text": [
      "Sum of all rows of all temporary dataframes: 64566\n",
      "Number of rows in raw data: 78948\n",
      "Joined dataset:\n",
      "  Country.Region   Lat  Long  cases        date       type\n",
      "0    Afghanistan  33.0  65.0      0  2020-01-22  confirmed\n",
      "1    Afghanistan  33.0  65.0      0  2020-01-23  confirmed\n",
      "2    Afghanistan  33.0  65.0      0  2020-01-24  confirmed\n",
      "3    Afghanistan  33.0  65.0      0  2020-01-25  confirmed\n",
      "4    Afghanistan  33.0  65.0      0  2020-01-26  confirmed\n",
      "(64566, 6)\n"
     ]
    }
   ],
   "source": [
    "print(\"Sum of all rows of all temporary dataframes: {}\".format(temp_df_not_canada.shape[0] + temp_df_canada.shape[0] + temp_df_province.shape[0] + temp_df_colonies.shape[0]))\n",
    "print(\"Number of rows in raw data: {}\".format(raw_data_all.shape[0]))\n",
    "\n",
    "# Join temp dataframes together\n",
    "df_countries = pd.concat([temp_df_not_canada, temp_df_province, temp_df_colonies, temp_df_canada], axis=0, sort=True)\n",
    "\n",
    "print(\"Joined dataset:\")\n",
    "print(df_countries.head())\n",
    "print(df_countries.shape)\n",
    "# Delete temporary data frames from memory\n",
    "del temp_df_not_canada, temp_df_province, temp_df_colonies, temp_df_canada"
   ]
  },
  {
   "cell_type": "markdown",
   "metadata": {},
   "source": [
    "#### Update Country Names to Official Names"
   ]
  },
  {
   "cell_type": "code",
   "execution_count": 27,
   "metadata": {},
   "outputs": [],
   "source": [
    "# Function returns error at missing country name as string\n",
    "# The error equals the name of the object in the search\n",
    "def check_country_names(country):\n",
    "    try:\n",
    "        countries.get(country)\n",
    "    except KeyError as error:\n",
    "        return eval(str(error))"
   ]
  },
  {
   "cell_type": "code",
   "execution_count": 28,
   "metadata": {},
   "outputs": [],
   "source": [
    "# Create list of all countries that cannot be found by their names\n",
    "countries_not_found = [check_country_names(country) for country in df_countries['Country.Region'].unique()]\n",
    "# Remove all None values (countries whee no error occured) from list\n",
    "countries_not_found = list(filter(None, countries_not_found))"
   ]
  },
  {
   "cell_type": "code",
   "execution_count": 29,
   "metadata": {},
   "outputs": [
    {
     "name": "stdout",
     "output_type": "stream",
     "text": [
      "Loading formatted geocoded file...\n"
     ]
    },
    {
     "data": {
      "text/plain": [
       "[OrderedDict([('lat', '49.45981'),\n",
       "              ('lon', '-2.53527'),\n",
       "              ('name', 'Saint Peter Port'),\n",
       "              ('admin1', 'St Peter Port'),\n",
       "              ('admin2', ''),\n",
       "              ('cc', 'GG')])]"
      ]
     },
     "execution_count": 29,
     "metadata": {},
     "output_type": "execute_result"
    }
   ],
   "source": [
    "# Search coordinates of Channel Islands to get official country name\n",
    "# Import library for reverse geocoding\n",
    "import reverse_geocoder as rg\n",
    "\n",
    "# Search for tuple of Lat, Long where Country.Region == Channel Islands\n",
    "rg.search((49.3723, -2.3644))"
   ]
  },
  {
   "cell_type": "code",
   "execution_count": 30,
   "metadata": {},
   "outputs": [],
   "source": [
    "official_country_names = [\n",
    "    'Bolivia, Plurinational State of',# Bolivia\n",
    "    'Brunei Darussalam',# Brunei\n",
    "    'Myanmar',# Burma\n",
    "    'Congo',# Congo (Brazzaville)\n",
    "    'Congo, Democratic Republic of the',# Congo (Kinshasa)\n",
    "    \"Côte d'Ivoire\",# Cote d'Ivoire\n",
    "    'Iran, Islamic Republic of',# Iran\n",
    "    'Korea, Republic of',# Korea, South\n",
    "    \"Lao People's Democratic Republic\",# Laos\n",
    "    'Moldova, Republic of',# Moldova\n",
    "    'Russian Federation',# Russia\n",
    "    'Syrian Arab Republic',# Syria\n",
    "    'Taiwan, Province of China',# Taiwan*\n",
    "    'Tanzania, United Republic of',# Tanzania\n",
    "    'United Kingdom of Great Britain and Northern Ireland',# United Kingdom\n",
    "    'Venezuela, Bolivarian Republic of',# Venezuela\n",
    "    'Viet Nam',# Vietnam\n",
    "    'Palestine, State of',# West Bank and Gaza\n",
    "    'Virgin Islands, British',# British Virgin Islands\n",
    "    'Guernsey',# Channel Islands: Estimated by coordinates as Saint Peter Port on Guernsey\n",
    "    'Curaçao',# Curacao\n",
    "    'Réunion',# Reunion\n",
    "    'Saint Barthélemy',# Saint Barthelemy\n",
    "    'Sint Maarten (Dutch part)',# Sint Maarten\n",
    "    'Saint Martin (French part)'# St Martin\n",
    "]"
   ]
  },
  {
   "cell_type": "code",
   "execution_count": 31,
   "metadata": {},
   "outputs": [],
   "source": [
    "# Create a zip object from two lists\n",
    "# Create a dictionary from zip object\n",
    "missing_countries_dict = dict(zip(countries_not_found, official_country_names))"
   ]
  },
  {
   "cell_type": "code",
   "execution_count": 32,
   "metadata": {
    "scrolled": true
   },
   "outputs": [],
   "source": [
    "for key, value in missing_countries_dict.items():\n",
    "    df_countries.loc[(df_countries['Country.Region'] == key), 'Country.Region'] = value"
   ]
  },
  {
   "cell_type": "markdown",
   "metadata": {},
   "source": [
    "### Add Display Name Column for Shorter Names in Figures"
   ]
  },
  {
   "cell_type": "code",
   "execution_count": 33,
   "metadata": {},
   "outputs": [],
   "source": [
    "display_name_dict = {\n",
    "    'Bolivia': 'Bolivia, Plurinational State of',\n",
    "    'Brunei': 'Brunei Darussalam',\n",
    "    'Congo': 'Congo',\n",
    "    'DR Congo': 'Congo, Democratic Republic of the',\n",
    "    'Iran': 'Iran, Islamic Republic of',\n",
    "    'South Korea': 'Korea, Republic of',\n",
    "    'Laos': \"Lao People's Democratic Republic\",\n",
    "    'Moldova': 'Moldova, Republic of',\n",
    "    'Russia': 'Russian Federation',\n",
    "    'Syria': 'Syrian Arab Republic',\n",
    "    'Taiwan': 'Taiwan, Province of China',\n",
    "    'Tanzania': 'Tanzania, United Republic of',\n",
    "    'United Kingdom': 'United Kingdom of Great Britain and Northern Ireland',\n",
    "    'United States': 'US',\n",
    "    'Venezuela': 'Venezuela, Bolivarian Republic of',\n",
    "    'Vietnam': 'Viet Nam',\n",
    "    'Palestine': 'Palestine, State of',\n",
    "    'British Virgin Islands': 'Virgin Islands, British',\n",
    "    'Channel Islands': 'Guernsey',\n",
    "    'Sint Maarten': 'Sint Maarten (Dutch part)',\n",
    "    'St Martin': 'Saint Martin (French part)'\n",
    "}"
   ]
  },
  {
   "cell_type": "code",
   "execution_count": 34,
   "metadata": {},
   "outputs": [],
   "source": [
    "# Add column from Country.Region, but for countries not found use keys in missing_countries_dict\n",
    "df_countries['DisplayName'] = df_countries['Country.Region']\n",
    "\n",
    "for key, value in display_name_dict.items():\n",
    "    df_countries.loc[(df_countries['Country.Region'] == value), 'DisplayName'] = key"
   ]
  },
  {
   "cell_type": "markdown",
   "metadata": {},
   "source": [
    "### Add ISO codes to countries"
   ]
  },
  {
   "cell_type": "code",
   "execution_count": 35,
   "metadata": {},
   "outputs": [],
   "source": [
    "# Get 2-digit country codes\n",
    "df_countries['iso2Code'] = [countries.get(row).alpha2 for row in df_countries['Country.Region']]\n",
    "\n",
    "# Get 3-digit country codes\n",
    "df_countries['iso3Code'] = [countries.get(row).alpha3 for row in df_countries['Country.Region']]\n",
    "\n",
    "# Get numeric country codes\n",
    "# For usage with UN dtataset\n",
    "df_countries['isoNumCode'] = [countries.get(row).numeric for row in df_countries['Country.Region']]"
   ]
  },
  {
   "cell_type": "code",
   "execution_count": 36,
   "metadata": {},
   "outputs": [],
   "source": [
    "# Load dataset with countries and continents\n",
    "# Source: https://datahub.io/JohnSnowLabs/country-and-continent-codes-list#python\n",
    "# Assign filename\n",
    "continents_url = os.path.join(external_data_path, 'country-and-continent-codes-list-csv_csv.csv')\n",
    "\n",
    "# Load dataset to dataframe\n",
    "continents_data = pd.read_csv(continents_url)"
   ]
  },
  {
   "cell_type": "code",
   "execution_count": 37,
   "metadata": {},
   "outputs": [],
   "source": [
    "# Create dict from continents dataframe\n",
    "codes = continents_data['Three_Letter_Country_Code']\n",
    "continents = continents_data['Continent_Name']\n",
    "\n",
    "continents_dict = dict(zip(codes, continents))"
   ]
  },
  {
   "cell_type": "code",
   "execution_count": 38,
   "metadata": {},
   "outputs": [],
   "source": [
    "# Map continents dictionary to data frame\n",
    "df_countries['Continent'] = df_countries['iso3Code'].map(continents_dict)"
   ]
  },
  {
   "cell_type": "code",
   "execution_count": 39,
   "metadata": {},
   "outputs": [
    {
     "data": {
      "text/plain": [
       "array(['Asia', 'Europe', 'Africa', 'North America', 'South America',\n",
       "       'Oceania', nan], dtype=object)"
      ]
     },
     "execution_count": 39,
     "metadata": {},
     "output_type": "execute_result"
    }
   ],
   "source": [
    "# List all unique values in 'Continent'\n",
    "df_countries['Continent'].unique()"
   ]
  },
  {
   "cell_type": "code",
   "execution_count": 40,
   "metadata": {},
   "outputs": [
    {
     "data": {
      "text/plain": [
       "array(['Kosovo'], dtype=object)"
      ]
     },
     "execution_count": 40,
     "metadata": {},
     "output_type": "execute_result"
    }
   ],
   "source": [
    "# Return Country.Region where Continent is NaN\n",
    "df_countries[df_countries['Continent'].isna()]['Country.Region'].unique()"
   ]
  },
  {
   "cell_type": "code",
   "execution_count": 41,
   "metadata": {
    "scrolled": true
   },
   "outputs": [],
   "source": [
    "# Add 'Europe' as continent for Kosovo\n",
    "df_countries.loc[(df_countries['Country.Region'] == 'Kosovo'), 'Continent'] = 'Europe'"
   ]
  },
  {
   "cell_type": "code",
   "execution_count": 42,
   "metadata": {
    "scrolled": false
   },
   "outputs": [
    {
     "data": {
      "text/plain": [
       "array(['Asia', 'Europe', 'Africa', 'North America', 'South America',\n",
       "       'Oceania'], dtype=object)"
      ]
     },
     "execution_count": 42,
     "metadata": {},
     "output_type": "execute_result"
    }
   ],
   "source": [
    "#df_countries[df_countries['Country.Region'] == 'Kosovo']\n",
    "df_countries['Continent'].unique()"
   ]
  },
  {
   "cell_type": "code",
   "execution_count": 43,
   "metadata": {},
   "outputs": [],
   "source": [
    "# Convert ISO numeric code to number\n",
    "df_countries['isoNumCode'] = pd.to_numeric(df_countries['isoNumCode'])"
   ]
  },
  {
   "cell_type": "code",
   "execution_count": 44,
   "metadata": {
    "scrolled": false
   },
   "outputs": [
    {
     "data": {
      "text/html": [
       "<div>\n",
       "<style scoped>\n",
       "    .dataframe tbody tr th:only-of-type {\n",
       "        vertical-align: middle;\n",
       "    }\n",
       "\n",
       "    .dataframe tbody tr th {\n",
       "        vertical-align: top;\n",
       "    }\n",
       "\n",
       "    .dataframe thead th {\n",
       "        text-align: right;\n",
       "    }\n",
       "</style>\n",
       "<table border=\"1\" class=\"dataframe\">\n",
       "  <thead>\n",
       "    <tr style=\"text-align: right;\">\n",
       "      <th></th>\n",
       "      <th>Country.Region</th>\n",
       "      <th>Lat</th>\n",
       "      <th>Long</th>\n",
       "      <th>cases</th>\n",
       "      <th>date</th>\n",
       "      <th>type</th>\n",
       "      <th>DisplayName</th>\n",
       "      <th>iso2Code</th>\n",
       "      <th>iso3Code</th>\n",
       "      <th>isoNumCode</th>\n",
       "      <th>Continent</th>\n",
       "    </tr>\n",
       "  </thead>\n",
       "  <tbody>\n",
       "    <tr>\n",
       "      <th>0</th>\n",
       "      <td>Afghanistan</td>\n",
       "      <td>33.0</td>\n",
       "      <td>65.0</td>\n",
       "      <td>0</td>\n",
       "      <td>2020-01-22</td>\n",
       "      <td>confirmed</td>\n",
       "      <td>Afghanistan</td>\n",
       "      <td>AF</td>\n",
       "      <td>AFG</td>\n",
       "      <td>4</td>\n",
       "      <td>Asia</td>\n",
       "    </tr>\n",
       "    <tr>\n",
       "      <th>1</th>\n",
       "      <td>Afghanistan</td>\n",
       "      <td>33.0</td>\n",
       "      <td>65.0</td>\n",
       "      <td>0</td>\n",
       "      <td>2020-01-23</td>\n",
       "      <td>confirmed</td>\n",
       "      <td>Afghanistan</td>\n",
       "      <td>AF</td>\n",
       "      <td>AFG</td>\n",
       "      <td>4</td>\n",
       "      <td>Asia</td>\n",
       "    </tr>\n",
       "    <tr>\n",
       "      <th>2</th>\n",
       "      <td>Afghanistan</td>\n",
       "      <td>33.0</td>\n",
       "      <td>65.0</td>\n",
       "      <td>0</td>\n",
       "      <td>2020-01-24</td>\n",
       "      <td>confirmed</td>\n",
       "      <td>Afghanistan</td>\n",
       "      <td>AF</td>\n",
       "      <td>AFG</td>\n",
       "      <td>4</td>\n",
       "      <td>Asia</td>\n",
       "    </tr>\n",
       "    <tr>\n",
       "      <th>3</th>\n",
       "      <td>Afghanistan</td>\n",
       "      <td>33.0</td>\n",
       "      <td>65.0</td>\n",
       "      <td>0</td>\n",
       "      <td>2020-01-25</td>\n",
       "      <td>confirmed</td>\n",
       "      <td>Afghanistan</td>\n",
       "      <td>AF</td>\n",
       "      <td>AFG</td>\n",
       "      <td>4</td>\n",
       "      <td>Asia</td>\n",
       "    </tr>\n",
       "    <tr>\n",
       "      <th>4</th>\n",
       "      <td>Afghanistan</td>\n",
       "      <td>33.0</td>\n",
       "      <td>65.0</td>\n",
       "      <td>0</td>\n",
       "      <td>2020-01-26</td>\n",
       "      <td>confirmed</td>\n",
       "      <td>Afghanistan</td>\n",
       "      <td>AF</td>\n",
       "      <td>AFG</td>\n",
       "      <td>4</td>\n",
       "      <td>Asia</td>\n",
       "    </tr>\n",
       "  </tbody>\n",
       "</table>\n",
       "</div>"
      ],
      "text/plain": [
       "  Country.Region   Lat  Long  cases        date       type  DisplayName  \\\n",
       "0    Afghanistan  33.0  65.0      0  2020-01-22  confirmed  Afghanistan   \n",
       "1    Afghanistan  33.0  65.0      0  2020-01-23  confirmed  Afghanistan   \n",
       "2    Afghanistan  33.0  65.0      0  2020-01-24  confirmed  Afghanistan   \n",
       "3    Afghanistan  33.0  65.0      0  2020-01-25  confirmed  Afghanistan   \n",
       "4    Afghanistan  33.0  65.0      0  2020-01-26  confirmed  Afghanistan   \n",
       "\n",
       "  iso2Code iso3Code  isoNumCode Continent  \n",
       "0       AF      AFG           4      Asia  \n",
       "1       AF      AFG           4      Asia  \n",
       "2       AF      AFG           4      Asia  \n",
       "3       AF      AFG           4      Asia  \n",
       "4       AF      AFG           4      Asia  "
      ]
     },
     "execution_count": 44,
     "metadata": {},
     "output_type": "execute_result"
    }
   ],
   "source": [
    "df_countries.head()"
   ]
  },
  {
   "cell_type": "code",
   "execution_count": 45,
   "metadata": {},
   "outputs": [
    {
     "name": "stdout",
     "output_type": "stream",
     "text": [
      "Size/Shape of the dataset (rows,cols):  (64566, 11)\n",
      "\n",
      "\n",
      "Missing values per column:\n",
      "Country.Region    0\n",
      "Lat               0\n",
      "Long              0\n",
      "cases             0\n",
      "date              0\n",
      "type              0\n",
      "DisplayName       0\n",
      "iso2Code          0\n",
      "iso3Code          0\n",
      "isoNumCode        0\n",
      "Continent         0\n",
      "dtype: int64\n",
      "\n",
      "\n",
      "Data type of each column:\n",
      "Country.Region     object\n",
      "Lat               float64\n",
      "Long              float64\n",
      "cases               int64\n",
      "date               object\n",
      "type               object\n",
      "DisplayName        object\n",
      "iso2Code           object\n",
      "iso3Code           object\n",
      "isoNumCode          int64\n",
      "Continent          object\n",
      "dtype: object\n"
     ]
    }
   ],
   "source": [
    "# Print basic information about dataset\n",
    "print('Size/Shape of the dataset (rows,cols): ', df_countries.shape)\n",
    "print('\\n')\n",
    "print('Missing values per column:')\n",
    "print(df_countries.isnull().sum())\n",
    "print('\\n')\n",
    "print('Data type of each column:')\n",
    "print(df_countries.dtypes)"
   ]
  },
  {
   "cell_type": "markdown",
   "metadata": {},
   "source": [
    "---"
   ]
  },
  {
   "cell_type": "markdown",
   "metadata": {},
   "source": [
    "# Population Data\n",
    "\n",
    "- Add column with total population"
   ]
  },
  {
   "cell_type": "code",
   "execution_count": 46,
   "metadata": {},
   "outputs": [],
   "source": [
    "# Load dataset\n",
    "# Source: UN 2019 Revision of World Population Prospects \n",
    "# (https://population.un.org/wpp/Download/Standard/CSV/)\n",
    "# https://population.un.org/wpp/DefinitionOfProjectionVariants/\n",
    "\n",
    "pop_filename = os.path.join(external_data_path, 'WPP2019_TotalPopulationBySex.csv')\n",
    "\n",
    "population_data_raw = pd.read_csv(pop_filename)"
   ]
  },
  {
   "cell_type": "markdown",
   "metadata": {},
   "source": [
    "## Add Total Population (and Income Levels) to Countries"
   ]
  },
  {
   "cell_type": "code",
   "execution_count": 47,
   "metadata": {},
   "outputs": [
    {
     "data": {
      "text/plain": [
       "211"
      ]
     },
     "execution_count": 47,
     "metadata": {},
     "output_type": "execute_result"
    }
   ],
   "source": [
    "len(df_countries['isoNumCode'].unique())"
   ]
  },
  {
   "cell_type": "code",
   "execution_count": 48,
   "metadata": {},
   "outputs": [
    {
     "data": {
      "text/html": [
       "<div>\n",
       "<style scoped>\n",
       "    .dataframe tbody tr th:only-of-type {\n",
       "        vertical-align: middle;\n",
       "    }\n",
       "\n",
       "    .dataframe tbody tr th {\n",
       "        vertical-align: top;\n",
       "    }\n",
       "\n",
       "    .dataframe thead th {\n",
       "        text-align: right;\n",
       "    }\n",
       "</style>\n",
       "<table border=\"1\" class=\"dataframe\">\n",
       "  <thead>\n",
       "    <tr style=\"text-align: right;\">\n",
       "      <th></th>\n",
       "      <th>LocID</th>\n",
       "      <th>PopTotal</th>\n",
       "    </tr>\n",
       "  </thead>\n",
       "  <tbody>\n",
       "    <tr>\n",
       "      <th>0</th>\n",
       "      <td>4</td>\n",
       "      <td>37171.922</td>\n",
       "    </tr>\n",
       "    <tr>\n",
       "      <th>1</th>\n",
       "      <td>8</td>\n",
       "      <td>2882.735</td>\n",
       "    </tr>\n",
       "    <tr>\n",
       "      <th>2</th>\n",
       "      <td>12</td>\n",
       "      <td>42228.415</td>\n",
       "    </tr>\n",
       "    <tr>\n",
       "      <th>3</th>\n",
       "      <td>16</td>\n",
       "      <td>55.461</td>\n",
       "    </tr>\n",
       "    <tr>\n",
       "      <th>4</th>\n",
       "      <td>20</td>\n",
       "      <td>77.008</td>\n",
       "    </tr>\n",
       "  </tbody>\n",
       "</table>\n",
       "</div>"
      ],
      "text/plain": [
       "   LocID   PopTotal\n",
       "0      4  37171.922\n",
       "1      8   2882.735\n",
       "2     12  42228.415\n",
       "3     16     55.461\n",
       "4     20     77.008"
      ]
     },
     "execution_count": 48,
     "metadata": {},
     "output_type": "execute_result"
    }
   ],
   "source": [
    "# population-by-country-2020\n",
    "population_data = population_data_raw[population_data_raw['Time'] == 2018].groupby(['LocID', 'Location', 'Time', 'PopTotal']).sum().reset_index()\n",
    "population_data.drop(['Location', 'Time','VarID', 'MidPeriod', 'PopMale', 'PopFemale', 'PopDensity'], axis=1, inplace=True)\n",
    "population_data.head()"
   ]
  },
  {
   "cell_type": "code",
   "execution_count": 49,
   "metadata": {},
   "outputs": [],
   "source": [
    "# PopTotal in 1000s\n",
    "# Update value to single units\n",
    "population_data['PopTotal'] = population_data['PopTotal'] * 1000"
   ]
  },
  {
   "cell_type": "code",
   "execution_count": 50,
   "metadata": {},
   "outputs": [
    {
     "name": "stdout",
     "output_type": "stream",
     "text": [
      "{983, 831}\n"
     ]
    },
    {
     "data": {
      "text/plain": [
       "2"
      ]
     },
     "execution_count": 50,
     "metadata": {},
     "output_type": "execute_result"
    }
   ],
   "source": [
    "# check if all num codes in df_countries present in population_data\n",
    "print(set(df_countries['isoNumCode']) - set(population_data['LocID']))\n",
    "len(set(df_countries['isoNumCode']) - set(population_data['LocID']))"
   ]
  },
  {
   "cell_type": "code",
   "execution_count": 51,
   "metadata": {},
   "outputs": [],
   "source": [
    "# Create dictionary of LocID and PopTotal\n",
    "# Use set_index to set ID columns as the dataframe index.\n",
    "population_dict = population_data.set_index('LocID').to_dict()"
   ]
  },
  {
   "cell_type": "code",
   "execution_count": 52,
   "metadata": {},
   "outputs": [],
   "source": [
    "# Map continents dictionary to data frame\n",
    "df_countries['TotalPopulation'] = df_countries['isoNumCode'].map(population_dict['PopTotal'])"
   ]
  },
  {
   "cell_type": "code",
   "execution_count": 53,
   "metadata": {},
   "outputs": [
    {
     "data": {
      "text/plain": [
       "array(['Kosovo', 'Guernsey'], dtype=object)"
      ]
     },
     "execution_count": 53,
     "metadata": {},
     "output_type": "execute_result"
    }
   ],
   "source": [
    "# List countries where TotalPopulation is NaN\n",
    "df_countries[df_countries['TotalPopulation'].isnull()]['Country.Region'].unique()"
   ]
  },
  {
   "cell_type": "code",
   "execution_count": 54,
   "metadata": {},
   "outputs": [],
   "source": [
    "# Kosovo: 1.907.592 (Source: https://de.wikipedia.org/wiki/Kosovo referencing CIA - The World Factbook July 2018)\n",
    "df_countries.loc[df_countries['Country.Region'] == 'Kosovo', 'TotalPopulation'] = 1907592\n",
    "\n",
    "# Channel Islands: 166.000 (Source: https://de.wikipedia.org/wiki/Kanalinseln)\n",
    "df_countries.loc[df_countries['Country.Region'] == 'Guernsey', 'TotalPopulation'] = 166000"
   ]
  },
  {
   "cell_type": "code",
   "execution_count": 55,
   "metadata": {
    "scrolled": false
   },
   "outputs": [
    {
     "data": {
      "text/html": [
       "<div>\n",
       "<style scoped>\n",
       "    .dataframe tbody tr th:only-of-type {\n",
       "        vertical-align: middle;\n",
       "    }\n",
       "\n",
       "    .dataframe tbody tr th {\n",
       "        vertical-align: top;\n",
       "    }\n",
       "\n",
       "    .dataframe thead th {\n",
       "        text-align: right;\n",
       "    }\n",
       "</style>\n",
       "<table border=\"1\" class=\"dataframe\">\n",
       "  <thead>\n",
       "    <tr style=\"text-align: right;\">\n",
       "      <th></th>\n",
       "      <th>Country.Region</th>\n",
       "      <th>Lat</th>\n",
       "      <th>Long</th>\n",
       "      <th>cases</th>\n",
       "      <th>date</th>\n",
       "      <th>type</th>\n",
       "      <th>DisplayName</th>\n",
       "      <th>iso2Code</th>\n",
       "      <th>iso3Code</th>\n",
       "      <th>isoNumCode</th>\n",
       "      <th>Continent</th>\n",
       "      <th>TotalPopulation</th>\n",
       "    </tr>\n",
       "  </thead>\n",
       "  <tbody>\n",
       "    <tr>\n",
       "      <th>0</th>\n",
       "      <td>Afghanistan</td>\n",
       "      <td>33.0</td>\n",
       "      <td>65.0</td>\n",
       "      <td>0</td>\n",
       "      <td>2020-01-22</td>\n",
       "      <td>confirmed</td>\n",
       "      <td>Afghanistan</td>\n",
       "      <td>AF</td>\n",
       "      <td>AFG</td>\n",
       "      <td>4</td>\n",
       "      <td>Asia</td>\n",
       "      <td>37171922.0</td>\n",
       "    </tr>\n",
       "    <tr>\n",
       "      <th>1</th>\n",
       "      <td>Afghanistan</td>\n",
       "      <td>33.0</td>\n",
       "      <td>65.0</td>\n",
       "      <td>0</td>\n",
       "      <td>2020-01-23</td>\n",
       "      <td>confirmed</td>\n",
       "      <td>Afghanistan</td>\n",
       "      <td>AF</td>\n",
       "      <td>AFG</td>\n",
       "      <td>4</td>\n",
       "      <td>Asia</td>\n",
       "      <td>37171922.0</td>\n",
       "    </tr>\n",
       "    <tr>\n",
       "      <th>2</th>\n",
       "      <td>Afghanistan</td>\n",
       "      <td>33.0</td>\n",
       "      <td>65.0</td>\n",
       "      <td>0</td>\n",
       "      <td>2020-01-24</td>\n",
       "      <td>confirmed</td>\n",
       "      <td>Afghanistan</td>\n",
       "      <td>AF</td>\n",
       "      <td>AFG</td>\n",
       "      <td>4</td>\n",
       "      <td>Asia</td>\n",
       "      <td>37171922.0</td>\n",
       "    </tr>\n",
       "    <tr>\n",
       "      <th>3</th>\n",
       "      <td>Afghanistan</td>\n",
       "      <td>33.0</td>\n",
       "      <td>65.0</td>\n",
       "      <td>0</td>\n",
       "      <td>2020-01-25</td>\n",
       "      <td>confirmed</td>\n",
       "      <td>Afghanistan</td>\n",
       "      <td>AF</td>\n",
       "      <td>AFG</td>\n",
       "      <td>4</td>\n",
       "      <td>Asia</td>\n",
       "      <td>37171922.0</td>\n",
       "    </tr>\n",
       "    <tr>\n",
       "      <th>4</th>\n",
       "      <td>Afghanistan</td>\n",
       "      <td>33.0</td>\n",
       "      <td>65.0</td>\n",
       "      <td>0</td>\n",
       "      <td>2020-01-26</td>\n",
       "      <td>confirmed</td>\n",
       "      <td>Afghanistan</td>\n",
       "      <td>AF</td>\n",
       "      <td>AFG</td>\n",
       "      <td>4</td>\n",
       "      <td>Asia</td>\n",
       "      <td>37171922.0</td>\n",
       "    </tr>\n",
       "  </tbody>\n",
       "</table>\n",
       "</div>"
      ],
      "text/plain": [
       "  Country.Region   Lat  Long  cases        date       type  DisplayName  \\\n",
       "0    Afghanistan  33.0  65.0      0  2020-01-22  confirmed  Afghanistan   \n",
       "1    Afghanistan  33.0  65.0      0  2020-01-23  confirmed  Afghanistan   \n",
       "2    Afghanistan  33.0  65.0      0  2020-01-24  confirmed  Afghanistan   \n",
       "3    Afghanistan  33.0  65.0      0  2020-01-25  confirmed  Afghanistan   \n",
       "4    Afghanistan  33.0  65.0      0  2020-01-26  confirmed  Afghanistan   \n",
       "\n",
       "  iso2Code iso3Code  isoNumCode Continent  TotalPopulation  \n",
       "0       AF      AFG           4      Asia       37171922.0  \n",
       "1       AF      AFG           4      Asia       37171922.0  \n",
       "2       AF      AFG           4      Asia       37171922.0  \n",
       "3       AF      AFG           4      Asia       37171922.0  \n",
       "4       AF      AFG           4      Asia       37171922.0  "
      ]
     },
     "execution_count": 55,
     "metadata": {},
     "output_type": "execute_result"
    }
   ],
   "source": [
    "df_countries.head()"
   ]
  },
  {
   "cell_type": "markdown",
   "metadata": {},
   "source": [
    "## Additional Variables\n",
    "\n",
    "- Split dataset into 'confirmed', 'death' & 'recovered'\n",
    "- Rename columns\n",
    "- Reorder columns\n",
    "- Calculate cumulative sums\n",
    "- Calculate relative to 100K for daily cases & cumulative cases"
   ]
  },
  {
   "cell_type": "markdown",
   "metadata": {},
   "source": [
    "### Calculate Cumulative Sums"
   ]
  },
  {
   "cell_type": "code",
   "execution_count": 57,
   "metadata": {
    "scrolled": true
   },
   "outputs": [],
   "source": [
    "# Add Cumulative Sums\n",
    "# Create list of unique type values\n",
    "types = list(df_countries['type'].unique())\n",
    "\n",
    "# Create empty dictionary for dataframes\n",
    "d = {}\n",
    "\n",
    "# Create list with grouping variables for cumsum\n",
    "group_vars = ['Country.Region', 'Lat', 'Long', 'iso2Code',\n",
    "       'iso3Code', 'isoNumCode', 'TotalPopulation' ]\n",
    "\n",
    "# Loop through types\n",
    "for case_type in types:\n",
    "    # Select rows where 'type' == case_type\n",
    "    df = df_countries[df_countries['type'] == case_type]\n",
    "    # Rename column 'cases' to 'daily_reported_cases'\n",
    "    df = df.rename(columns={'cases': 'daily_reported_cases'})\n",
    "    # Reset index (drop current index)\n",
    "    df = df.reset_index(drop=True)\n",
    "    # Add column & apply function to calculate cumsum\n",
    "    df['cumulative_cases'] = df.groupby(group_vars)['daily_reported_cases'].apply(lambda x: x.cumsum())\n",
    "    # Add df to dict\n",
    "    d['df_{}'.format(case_type)] = df"
   ]
  },
  {
   "cell_type": "markdown",
   "metadata": {},
   "source": [
    "### Calculate Daily & Cumulative Cases relative to Population Size (per 100K)\n",
    "\n",
    "\n",
    "Calculating cases per 100K:\n",
    "$$\n",
    "\\frac{\\text{Number of Cases}}{\\text{Total Population}} \\times 100000\n",
    "$$"
   ]
  },
  {
   "cell_type": "code",
   "execution_count": 58,
   "metadata": {},
   "outputs": [],
   "source": [
    "# Function to calculate cases per 100K\n",
    "def calculate_per_100K(n, popTotal):\n",
    "    return (n / popTotal) * 100000"
   ]
  },
  {
   "cell_type": "code",
   "execution_count": 59,
   "metadata": {},
   "outputs": [],
   "source": [
    "# Iterate over all data frames in dictionary\n",
    "for value in d.values():\n",
    "    # Calculate daily reported cases per 100K\n",
    "    value['daily_per_100K'] = value.apply(lambda x: calculate_per_100K(x['daily_reported_cases'], x['TotalPopulation']), axis=1)\n",
    "    # Calculate cumulative  cases per 100K\n",
    "    value['cumulative_per_100K'] = value.apply(lambda x: calculate_per_100K(x['cumulative_cases'], x['TotalPopulation']), axis=1)"
   ]
  },
  {
   "cell_type": "markdown",
   "metadata": {},
   "source": [
    "### Update Column Names and Reorder Columns"
   ]
  },
  {
   "cell_type": "markdown",
   "metadata": {},
   "source": [
    "| current name  | new name |\n",
    "|---|---|\n",
    "| Country.Region  | Country  |\n",
    "|   | DisplayName  |\n",
    "| Lat  | Latitude  |\n",
    "| Long  | Longitude  |\n",
    "| iso2Code  |  ISO2Code |\n",
    "| iso3Code  | ISO3Code  |\n",
    "| isoNumCode  | ISONumCode  |\n",
    "| TotalPopulation  | TotalPopulation  |\n",
    "| Continent  | Continent  |\n",
    "| date  | Date  |\n",
    "| type  | CaseType  |\n",
    "| cases  | DailyReportedCases  |\n",
    "| cumulative_cases  | CumulativeReportedCases  |\n",
    "| daily_per_100K  | DailyReportedCasesPer100K  |\n",
    "| cumulative_per_100K  | CumulativeReportedCasesPer100K  |\n"
   ]
  },
  {
   "cell_type": "code",
   "execution_count": 60,
   "metadata": {},
   "outputs": [],
   "source": [
    "# Iterate over all data frames in dictionary\n",
    "for df in d.values():\n",
    "    df.rename(columns={'Country.Region': 'Country', 'Lat': 'Latitude', 'Long': 'Longitude', \n",
    "                   'daily_reported_cases': 'DailyReportedCases', 'date': 'Date', 'type': 'CaseType', 'iso2Code': 'ISO2Code', \n",
    "                   'iso3Code': 'ISO3Code', 'isoNumCode': 'ISONumCode', 'cumulative_cases': 'CumulativeReportedCases',\n",
    "                   'daily_per_100K': 'DailyReportedCasesPer100K', 'cumulative_per_100K': 'CumulativeReportedCasesPer100K'}, inplace=True)\n"
   ]
  },
  {
   "cell_type": "code",
   "execution_count": 61,
   "metadata": {},
   "outputs": [],
   "source": [
    "# Drop 'type' column in all data frames\n",
    "#for df in d.values():\n",
    "#    df.drop('type', axis=1, inplace=True)"
   ]
  },
  {
   "cell_type": "code",
   "execution_count": 62,
   "metadata": {},
   "outputs": [],
   "source": [
    "# Reorder Columns\n",
    "ordered_cols = ['Country', 'DisplayName', 'Latitude', 'Longitude', \n",
    "                'ISO2Code', 'ISO3Code', 'ISONumCode','TotalPopulation', 'Continent', 'Date', \n",
    "                'CaseType', 'DailyReportedCases', 'CumulativeReportedCases',\n",
    "       'DailyReportedCasesPer100K', 'CumulativeReportedCasesPer100K']\n",
    "\n",
    "d['df_confirmed'] = d['df_confirmed'][ordered_cols]\n",
    "d['df_death'] = d['df_death'][ordered_cols]\n",
    "d['df_recovered'] = d['df_recovered'][ordered_cols]"
   ]
  },
  {
   "cell_type": "markdown",
   "metadata": {},
   "source": [
    "### Calculate Growth Factors"
   ]
  },
  {
   "cell_type": "code",
   "execution_count": 63,
   "metadata": {
    "scrolled": true
   },
   "outputs": [
    {
     "name": "stderr",
     "output_type": "stream",
     "text": [
      "/Users/reginagalambos/anaconda3/lib/python3.7/site-packages/ipykernel_launcher.py:5: SettingWithCopyWarning: \n",
      "A value is trying to be set on a copy of a slice from a DataFrame.\n",
      "Try using .loc[row_indexer,col_indexer] = value instead\n",
      "\n",
      "See the caveats in the documentation: https://pandas.pydata.org/pandas-docs/stable/user_guide/indexing.html#returning-a-view-versus-a-copy\n",
      "  \"\"\"\n"
     ]
    }
   ],
   "source": [
    "group_vars = ['Country', 'DisplayName', 'Latitude', 'Longitude', 'ISO2Code',\n",
    "       'ISO3Code', 'ISONumCode', 'TotalPopulation']\n",
    "\n",
    "for value in d.values():\n",
    "    value['GrowthFactor'] = value.groupby(group_vars)['CumulativeReportedCases'].apply(lambda x: x.pct_change() + 1)"
   ]
  },
  {
   "cell_type": "markdown",
   "metadata": {},
   "source": [
    "### Calculate Doubline Times in Rolling Windows ($\\Delta t$ = 7 days)"
   ]
  },
  {
   "cell_type": "code",
   "execution_count": 64,
   "metadata": {},
   "outputs": [],
   "source": [
    "group_vars = ['Country', 'DisplayName', 'Latitude', 'Longitude', 'ISO2Code',\n",
    "       'ISO3Code', 'ISONumCode', 'TotalPopulation', 'Continent', 'Date', 'CaseType',\n",
    "       'DailyReportedCases', 'CumulativeReportedCases',\n",
    "       'DailyReportedCasesPer100K', 'CumulativeReportedCasesPer100K']\n",
    "\n",
    "for key, value in d.items():\n",
    "    grp = pd.DataFrame(value.groupby(group_vars)['GrowthFactor'].sum())\n",
    "    grp['GF_RollingGeomMean'] = grp.rolling(7).apply(gmean, raw=True)\n",
    "    grp.reset_index(inplace=True)\n",
    "    d[key] = grp\n",
    "\n",
    "del grp"
   ]
  },
  {
   "cell_type": "code",
   "execution_count": 65,
   "metadata": {},
   "outputs": [],
   "source": [
    "def calculate_doubling_time(geom_mean):\n",
    "    return ln(2)/ln(geom_mean)"
   ]
  },
  {
   "cell_type": "code",
   "execution_count": 66,
   "metadata": {},
   "outputs": [],
   "source": [
    "for value in d.values():\n",
    "    value['DoublingTime'] = value['GF_RollingGeomMean'].apply(lambda x: calculate_doubling_time(x))"
   ]
  },
  {
   "cell_type": "markdown",
   "metadata": {},
   "source": [
    "---"
   ]
  },
  {
   "cell_type": "markdown",
   "metadata": {},
   "source": [
    "# World"
   ]
  },
  {
   "cell_type": "markdown",
   "metadata": {},
   "source": [
    "## Create Date Frame for World"
   ]
  },
  {
   "cell_type": "code",
   "execution_count": 89,
   "metadata": {},
   "outputs": [],
   "source": [
    "# Create data frame for world-wide case numbers\n",
    "df_world = df_countries.groupby(['type', 'date']).sum()\n",
    "\n",
    "# Drop unnecessary numeric columns\n",
    "cols_to_drop = ['Lat', 'Long', 'isoNumCode']\n",
    "df_world.drop(cols_to_drop, axis=1, inplace=True)"
   ]
  },
  {
   "cell_type": "code",
   "execution_count": 90,
   "metadata": {},
   "outputs": [],
   "source": [
    "# Create empty dictionary for world-data frames\n",
    "d_world = {}\n",
    "\n",
    "for case_type in df_countries['type'].unique():\n",
    "    # Select rows where index label'type' == case_type & reset index(ungroup)\n",
    "    # Add selected rows to data frame in dictionary\n",
    "    d_world['df_{}'.format(case_type)] = df_world.loc[[case_type], :].reset_index()\n",
    "    "
   ]
  },
  {
   "cell_type": "markdown",
   "metadata": {},
   "source": [
    "### Calculate Cumulative Sums World-Wide"
   ]
  },
  {
   "cell_type": "code",
   "execution_count": 91,
   "metadata": {},
   "outputs": [],
   "source": [
    "# Iterate over all data frames in dictionary\n",
    "for key, value in d_world.items():\n",
    "    # Rename cases column\n",
    "    value.rename(columns={'cases': 'daily_reported_cases'}, inplace=True)\n",
    "    # Calculate cumsum of cases & assign to new column in df\n",
    "    value['cumulative_cases'] = value['daily_reported_cases'].cumsum()"
   ]
  },
  {
   "cell_type": "markdown",
   "metadata": {},
   "source": [
    "### Calculate Daily & Cumulative Cases relative to Population Size (per 100K) World-Wide"
   ]
  },
  {
   "cell_type": "code",
   "execution_count": 92,
   "metadata": {},
   "outputs": [],
   "source": [
    "# Iterate over all data frames in dictionary\n",
    "for value in d_world.values():\n",
    "    # Calculate daily reported cases per 100K\n",
    "    value['daily_per_100K'] = value.apply(lambda x: calculate_per_100K(x['daily_reported_cases'], x['TotalPopulation']), axis=1)\n",
    "    # Calculate cumulative  cases per 100K\n",
    "    value['cumulative_per_100K'] = value.apply(lambda x: calculate_per_100K(x['cumulative_cases'], x['TotalPopulation']), axis=1)"
   ]
  },
  {
   "cell_type": "code",
   "execution_count": 99,
   "metadata": {
    "scrolled": false
   },
   "outputs": [
    {
     "data": {
      "text/html": [
       "<div>\n",
       "<style scoped>\n",
       "    .dataframe tbody tr th:only-of-type {\n",
       "        vertical-align: middle;\n",
       "    }\n",
       "\n",
       "    .dataframe tbody tr th {\n",
       "        vertical-align: top;\n",
       "    }\n",
       "\n",
       "    .dataframe thead th {\n",
       "        text-align: right;\n",
       "    }\n",
       "</style>\n",
       "<table border=\"1\" class=\"dataframe\">\n",
       "  <thead>\n",
       "    <tr style=\"text-align: right;\">\n",
       "      <th></th>\n",
       "      <th>CaseType</th>\n",
       "      <th>TotalPopulation</th>\n",
       "      <th>Date</th>\n",
       "      <th>DailyReportedCases</th>\n",
       "      <th>CumulativeReportedCases</th>\n",
       "      <th>DailyReportedCasesPer100K</th>\n",
       "      <th>CumulativeReportedCasesPer100K</th>\n",
       "    </tr>\n",
       "  </thead>\n",
       "  <tbody>\n",
       "    <tr>\n",
       "      <th>0</th>\n",
       "      <td>confirmed</td>\n",
       "      <td>7.586450e+09</td>\n",
       "      <td>2020-01-22</td>\n",
       "      <td>555</td>\n",
       "      <td>555</td>\n",
       "      <td>0.007316</td>\n",
       "      <td>0.007316</td>\n",
       "    </tr>\n",
       "    <tr>\n",
       "      <th>1</th>\n",
       "      <td>confirmed</td>\n",
       "      <td>7.586450e+09</td>\n",
       "      <td>2020-01-23</td>\n",
       "      <td>99</td>\n",
       "      <td>654</td>\n",
       "      <td>0.001305</td>\n",
       "      <td>0.008621</td>\n",
       "    </tr>\n",
       "    <tr>\n",
       "      <th>2</th>\n",
       "      <td>confirmed</td>\n",
       "      <td>7.586450e+09</td>\n",
       "      <td>2020-01-24</td>\n",
       "      <td>287</td>\n",
       "      <td>941</td>\n",
       "      <td>0.003783</td>\n",
       "      <td>0.012404</td>\n",
       "    </tr>\n",
       "    <tr>\n",
       "      <th>3</th>\n",
       "      <td>confirmed</td>\n",
       "      <td>7.586450e+09</td>\n",
       "      <td>2020-01-25</td>\n",
       "      <td>493</td>\n",
       "      <td>1434</td>\n",
       "      <td>0.006498</td>\n",
       "      <td>0.018902</td>\n",
       "    </tr>\n",
       "    <tr>\n",
       "      <th>4</th>\n",
       "      <td>confirmed</td>\n",
       "      <td>7.586450e+09</td>\n",
       "      <td>2020-01-26</td>\n",
       "      <td>684</td>\n",
       "      <td>2118</td>\n",
       "      <td>0.009016</td>\n",
       "      <td>0.027918</td>\n",
       "    </tr>\n",
       "    <tr>\n",
       "      <th>...</th>\n",
       "      <td>...</td>\n",
       "      <td>...</td>\n",
       "      <td>...</td>\n",
       "      <td>...</td>\n",
       "      <td>...</td>\n",
       "      <td>...</td>\n",
       "      <td>...</td>\n",
       "    </tr>\n",
       "    <tr>\n",
       "      <th>97</th>\n",
       "      <td>confirmed</td>\n",
       "      <td>7.586450e+09</td>\n",
       "      <td>2020-04-28</td>\n",
       "      <td>73468</td>\n",
       "      <td>3096456</td>\n",
       "      <td>0.968411</td>\n",
       "      <td>40.815614</td>\n",
       "    </tr>\n",
       "    <tr>\n",
       "      <th>98</th>\n",
       "      <td>confirmed</td>\n",
       "      <td>7.586450e+09</td>\n",
       "      <td>2020-04-29</td>\n",
       "      <td>75097</td>\n",
       "      <td>3171553</td>\n",
       "      <td>0.989883</td>\n",
       "      <td>41.805497</td>\n",
       "    </tr>\n",
       "    <tr>\n",
       "      <th>99</th>\n",
       "      <td>confirmed</td>\n",
       "      <td>7.586450e+09</td>\n",
       "      <td>2020-04-30</td>\n",
       "      <td>84566</td>\n",
       "      <td>3256119</td>\n",
       "      <td>1.114698</td>\n",
       "      <td>42.920195</td>\n",
       "    </tr>\n",
       "    <tr>\n",
       "      <th>100</th>\n",
       "      <td>confirmed</td>\n",
       "      <td>7.586450e+09</td>\n",
       "      <td>2020-05-01</td>\n",
       "      <td>86923</td>\n",
       "      <td>3343042</td>\n",
       "      <td>1.145767</td>\n",
       "      <td>44.065962</td>\n",
       "    </tr>\n",
       "    <tr>\n",
       "      <th>101</th>\n",
       "      <td>confirmed</td>\n",
       "      <td>7.586450e+09</td>\n",
       "      <td>2020-05-02</td>\n",
       "      <td>83566</td>\n",
       "      <td>3426608</td>\n",
       "      <td>1.101517</td>\n",
       "      <td>45.167478</td>\n",
       "    </tr>\n",
       "  </tbody>\n",
       "</table>\n",
       "<p>102 rows × 7 columns</p>\n",
       "</div>"
      ],
      "text/plain": [
       "      CaseType  TotalPopulation        Date  DailyReportedCases  \\\n",
       "0    confirmed     7.586450e+09  2020-01-22                 555   \n",
       "1    confirmed     7.586450e+09  2020-01-23                  99   \n",
       "2    confirmed     7.586450e+09  2020-01-24                 287   \n",
       "3    confirmed     7.586450e+09  2020-01-25                 493   \n",
       "4    confirmed     7.586450e+09  2020-01-26                 684   \n",
       "..         ...              ...         ...                 ...   \n",
       "97   confirmed     7.586450e+09  2020-04-28               73468   \n",
       "98   confirmed     7.586450e+09  2020-04-29               75097   \n",
       "99   confirmed     7.586450e+09  2020-04-30               84566   \n",
       "100  confirmed     7.586450e+09  2020-05-01               86923   \n",
       "101  confirmed     7.586450e+09  2020-05-02               83566   \n",
       "\n",
       "     CumulativeReportedCases  DailyReportedCasesPer100K  \\\n",
       "0                        555                   0.007316   \n",
       "1                        654                   0.001305   \n",
       "2                        941                   0.003783   \n",
       "3                       1434                   0.006498   \n",
       "4                       2118                   0.009016   \n",
       "..                       ...                        ...   \n",
       "97                   3096456                   0.968411   \n",
       "98                   3171553                   0.989883   \n",
       "99                   3256119                   1.114698   \n",
       "100                  3343042                   1.145767   \n",
       "101                  3426608                   1.101517   \n",
       "\n",
       "     CumulativeReportedCasesPer100K  \n",
       "0                          0.007316  \n",
       "1                          0.008621  \n",
       "2                          0.012404  \n",
       "3                          0.018902  \n",
       "4                          0.027918  \n",
       "..                              ...  \n",
       "97                        40.815614  \n",
       "98                        41.805497  \n",
       "99                        42.920195  \n",
       "100                       44.065962  \n",
       "101                       45.167478  \n",
       "\n",
       "[102 rows x 7 columns]"
      ]
     },
     "execution_count": 99,
     "metadata": {},
     "output_type": "execute_result"
    }
   ],
   "source": [
    "d_world['df_confirmed']"
   ]
  },
  {
   "cell_type": "markdown",
   "metadata": {},
   "source": [
    "### Update Column Names and Reorder Columns World-Wide"
   ]
  },
  {
   "cell_type": "code",
   "execution_count": 96,
   "metadata": {},
   "outputs": [],
   "source": [
    "for df in d_world.values():\n",
    "    # Drop column 'type'\n",
    "    #df.drop('type', axis=1, inplace=True)\n",
    "    # Rename columns\n",
    "    df.rename(columns={'type': 'CaseType','date': 'Date', 'daily_reported_cases': 'DailyReportedCases', \n",
    "                       'cumulative_cases': 'CumulativeReportedCases', 'daily_per_100K': 'DailyReportedCasesPer100K', \n",
    "                       'cumulative_per_100K': 'CumulativeReportedCasesPer100K'}, inplace=True)"
   ]
  },
  {
   "cell_type": "code",
   "execution_count": 98,
   "metadata": {},
   "outputs": [],
   "source": [
    "# Move column 'TotalPopulation' before case number columns\n",
    "for df in d_world.values():\n",
    "    col_to_move = df['TotalPopulation']\n",
    "    df.drop(labels=['TotalPopulation'], axis=1, inplace=True)\n",
    "    df.insert(1, 'TotalPopulation', col_to_move)"
   ]
  },
  {
   "cell_type": "markdown",
   "metadata": {},
   "source": [
    "---"
   ]
  },
  {
   "cell_type": "markdown",
   "metadata": {},
   "source": [
    "## Export pre-processed Datasets"
   ]
  },
  {
   "cell_type": "code",
   "execution_count": 67,
   "metadata": {},
   "outputs": [],
   "source": [
    "# Join data frames in d\n",
    "df = pd.concat(list(d.values()), ignore_index=True)\n",
    "\n",
    "# Export dataframe to csv\n",
    "df.to_csv(os.path.join(processed_data_path, 'covid_countries.csv'), index=False, header=True)"
   ]
  },
  {
   "cell_type": "code",
   "execution_count": null,
   "metadata": {},
   "outputs": [],
   "source": [
    "df.col"
   ]
  },
  {
   "cell_type": "code",
   "execution_count": null,
   "metadata": {},
   "outputs": [],
   "source": [
    "# Join data frames in d\n",
    "df_world = pd.concat(list(d_world.values()), ignore_index=True)\n",
    "\n",
    "# Export d_world\n"
   ]
  },
  {
   "cell_type": "markdown",
   "metadata": {},
   "source": [
    "---"
   ]
  },
  {
   "cell_type": "code",
   "execution_count": null,
   "metadata": {},
   "outputs": [],
   "source": [
    "# Export data frame to store for use in other notebook\n",
    "%store d"
   ]
  },
  {
   "cell_type": "markdown",
   "metadata": {},
   "source": [
    "---"
   ]
  },
  {
   "cell_type": "code",
   "execution_count": 68,
   "metadata": {
    "scrolled": true
   },
   "outputs": [
    {
     "data": {
      "text/html": [
       "<div>\n",
       "<style scoped>\n",
       "    .dataframe tbody tr th:only-of-type {\n",
       "        vertical-align: middle;\n",
       "    }\n",
       "\n",
       "    .dataframe tbody tr th {\n",
       "        vertical-align: top;\n",
       "    }\n",
       "\n",
       "    .dataframe thead th {\n",
       "        text-align: right;\n",
       "    }\n",
       "</style>\n",
       "<table border=\"1\" class=\"dataframe\">\n",
       "  <thead>\n",
       "    <tr style=\"text-align: right;\">\n",
       "      <th></th>\n",
       "      <th>Country</th>\n",
       "      <th>DisplayName</th>\n",
       "      <th>Latitude</th>\n",
       "      <th>Longitude</th>\n",
       "      <th>ISO2Code</th>\n",
       "      <th>ISO3Code</th>\n",
       "      <th>ISONumCode</th>\n",
       "      <th>TotalPopulation</th>\n",
       "      <th>Continent</th>\n",
       "      <th>Date</th>\n",
       "      <th>CaseType</th>\n",
       "      <th>DailyReportedCases</th>\n",
       "      <th>CumulativeReportedCases</th>\n",
       "      <th>DailyReportedCasesPer100K</th>\n",
       "      <th>CumulativeReportedCasesPer100K</th>\n",
       "      <th>GrowthFactor</th>\n",
       "      <th>GF_RollingGeomMean</th>\n",
       "      <th>DoublingTime</th>\n",
       "    </tr>\n",
       "  </thead>\n",
       "  <tbody>\n",
       "    <tr>\n",
       "      <th>0</th>\n",
       "      <td>Afghanistan</td>\n",
       "      <td>Afghanistan</td>\n",
       "      <td>33.0</td>\n",
       "      <td>65.0</td>\n",
       "      <td>AF</td>\n",
       "      <td>AFG</td>\n",
       "      <td>4</td>\n",
       "      <td>37171922.0</td>\n",
       "      <td>Asia</td>\n",
       "      <td>2020-01-22</td>\n",
       "      <td>confirmed</td>\n",
       "      <td>0</td>\n",
       "      <td>0</td>\n",
       "      <td>0.0</td>\n",
       "      <td>0.0</td>\n",
       "      <td>0.0</td>\n",
       "      <td>NaN</td>\n",
       "      <td>NaN</td>\n",
       "    </tr>\n",
       "    <tr>\n",
       "      <th>1</th>\n",
       "      <td>Afghanistan</td>\n",
       "      <td>Afghanistan</td>\n",
       "      <td>33.0</td>\n",
       "      <td>65.0</td>\n",
       "      <td>AF</td>\n",
       "      <td>AFG</td>\n",
       "      <td>4</td>\n",
       "      <td>37171922.0</td>\n",
       "      <td>Asia</td>\n",
       "      <td>2020-01-23</td>\n",
       "      <td>confirmed</td>\n",
       "      <td>0</td>\n",
       "      <td>0</td>\n",
       "      <td>0.0</td>\n",
       "      <td>0.0</td>\n",
       "      <td>0.0</td>\n",
       "      <td>NaN</td>\n",
       "      <td>NaN</td>\n",
       "    </tr>\n",
       "    <tr>\n",
       "      <th>2</th>\n",
       "      <td>Afghanistan</td>\n",
       "      <td>Afghanistan</td>\n",
       "      <td>33.0</td>\n",
       "      <td>65.0</td>\n",
       "      <td>AF</td>\n",
       "      <td>AFG</td>\n",
       "      <td>4</td>\n",
       "      <td>37171922.0</td>\n",
       "      <td>Asia</td>\n",
       "      <td>2020-01-24</td>\n",
       "      <td>confirmed</td>\n",
       "      <td>0</td>\n",
       "      <td>0</td>\n",
       "      <td>0.0</td>\n",
       "      <td>0.0</td>\n",
       "      <td>0.0</td>\n",
       "      <td>NaN</td>\n",
       "      <td>NaN</td>\n",
       "    </tr>\n",
       "    <tr>\n",
       "      <th>3</th>\n",
       "      <td>Afghanistan</td>\n",
       "      <td>Afghanistan</td>\n",
       "      <td>33.0</td>\n",
       "      <td>65.0</td>\n",
       "      <td>AF</td>\n",
       "      <td>AFG</td>\n",
       "      <td>4</td>\n",
       "      <td>37171922.0</td>\n",
       "      <td>Asia</td>\n",
       "      <td>2020-01-25</td>\n",
       "      <td>confirmed</td>\n",
       "      <td>0</td>\n",
       "      <td>0</td>\n",
       "      <td>0.0</td>\n",
       "      <td>0.0</td>\n",
       "      <td>0.0</td>\n",
       "      <td>NaN</td>\n",
       "      <td>NaN</td>\n",
       "    </tr>\n",
       "    <tr>\n",
       "      <th>4</th>\n",
       "      <td>Afghanistan</td>\n",
       "      <td>Afghanistan</td>\n",
       "      <td>33.0</td>\n",
       "      <td>65.0</td>\n",
       "      <td>AF</td>\n",
       "      <td>AFG</td>\n",
       "      <td>4</td>\n",
       "      <td>37171922.0</td>\n",
       "      <td>Asia</td>\n",
       "      <td>2020-01-26</td>\n",
       "      <td>confirmed</td>\n",
       "      <td>0</td>\n",
       "      <td>0</td>\n",
       "      <td>0.0</td>\n",
       "      <td>0.0</td>\n",
       "      <td>0.0</td>\n",
       "      <td>NaN</td>\n",
       "      <td>NaN</td>\n",
       "    </tr>\n",
       "  </tbody>\n",
       "</table>\n",
       "</div>"
      ],
      "text/plain": [
       "       Country  DisplayName  Latitude  Longitude ISO2Code ISO3Code  \\\n",
       "0  Afghanistan  Afghanistan      33.0       65.0       AF      AFG   \n",
       "1  Afghanistan  Afghanistan      33.0       65.0       AF      AFG   \n",
       "2  Afghanistan  Afghanistan      33.0       65.0       AF      AFG   \n",
       "3  Afghanistan  Afghanistan      33.0       65.0       AF      AFG   \n",
       "4  Afghanistan  Afghanistan      33.0       65.0       AF      AFG   \n",
       "\n",
       "   ISONumCode  TotalPopulation Continent        Date   CaseType  \\\n",
       "0           4       37171922.0      Asia  2020-01-22  confirmed   \n",
       "1           4       37171922.0      Asia  2020-01-23  confirmed   \n",
       "2           4       37171922.0      Asia  2020-01-24  confirmed   \n",
       "3           4       37171922.0      Asia  2020-01-25  confirmed   \n",
       "4           4       37171922.0      Asia  2020-01-26  confirmed   \n",
       "\n",
       "   DailyReportedCases  CumulativeReportedCases  DailyReportedCasesPer100K  \\\n",
       "0                   0                        0                        0.0   \n",
       "1                   0                        0                        0.0   \n",
       "2                   0                        0                        0.0   \n",
       "3                   0                        0                        0.0   \n",
       "4                   0                        0                        0.0   \n",
       "\n",
       "   CumulativeReportedCasesPer100K  GrowthFactor  GF_RollingGeomMean  \\\n",
       "0                             0.0           0.0                 NaN   \n",
       "1                             0.0           0.0                 NaN   \n",
       "2                             0.0           0.0                 NaN   \n",
       "3                             0.0           0.0                 NaN   \n",
       "4                             0.0           0.0                 NaN   \n",
       "\n",
       "   DoublingTime  \n",
       "0           NaN  \n",
       "1           NaN  \n",
       "2           NaN  \n",
       "3           NaN  \n",
       "4           NaN  "
      ]
     },
     "execution_count": 68,
     "metadata": {},
     "output_type": "execute_result"
    }
   ],
   "source": [
    "df.head()"
   ]
  },
  {
   "cell_type": "code",
   "execution_count": 70,
   "metadata": {},
   "outputs": [],
   "source": [
    "df_eu = df[df['Continent'] == 'Europe']"
   ]
  },
  {
   "cell_type": "code",
   "execution_count": 77,
   "metadata": {},
   "outputs": [],
   "source": [
    "c6_start_dates = pd.read_csv('c6_start_dates.csv', names=['Code', 'Date'], header=None)"
   ]
  },
  {
   "cell_type": "code",
   "execution_count": 81,
   "metadata": {},
   "outputs": [],
   "source": [
    "c6_start_dates = c6_start_dates[c6_start_dates['Code'].notna()]"
   ]
  },
  {
   "cell_type": "code",
   "execution_count": 85,
   "metadata": {},
   "outputs": [],
   "source": [
    "countries_eu = df_eu['ISO3Code'].unique()\n",
    "countries_c6 = c6_start_dates['Code'].unique()"
   ]
  },
  {
   "cell_type": "code",
   "execution_count": 86,
   "metadata": {},
   "outputs": [
    {
     "name": "stdout",
     "output_type": "stream",
     "text": [
      "{'MLT', 'MNE', 'MCO', 'GGY', 'IMN', 'MKD', 'FRO', 'XKX', 'LTU', 'BLR', 'GIB', 'VAT', 'LIE', 'LVA'}\n"
     ]
    },
    {
     "data": {
      "text/plain": [
       "14"
      ]
     },
     "execution_count": 86,
     "metadata": {},
     "output_type": "execute_result"
    }
   ],
   "source": [
    "# check if all num codes in df_countries present in population_data\n",
    "print(set(df_eu['ISO3Code']) - set(c6_start_dates['Code']))\n",
    "len(set(df_eu['ISO3Code']) - set(c6_start_dates['Code']))"
   ]
  },
  {
   "cell_type": "code",
   "execution_count": 96,
   "metadata": {},
   "outputs": [],
   "source": [
    "# Create dictionary of LocID and PopTotal\n",
    "# Use set_index to set ID columns as the dataframe index.\n",
    "eu_codes = list(c6_start_dates['Code'])\n",
    "eu_dates = list(c6_start_dates['Date'])\n",
    "c6_dict = dict(zip(eu_codes, eu_dates))"
   ]
  },
  {
   "cell_type": "code",
   "execution_count": 98,
   "metadata": {},
   "outputs": [
    {
     "data": {
      "text/html": [
       "<div>\n",
       "<style scoped>\n",
       "    .dataframe tbody tr th:only-of-type {\n",
       "        vertical-align: middle;\n",
       "    }\n",
       "\n",
       "    .dataframe tbody tr th {\n",
       "        vertical-align: top;\n",
       "    }\n",
       "\n",
       "    .dataframe thead th {\n",
       "        text-align: right;\n",
       "    }\n",
       "</style>\n",
       "<table border=\"1\" class=\"dataframe\">\n",
       "  <thead>\n",
       "    <tr style=\"text-align: right;\">\n",
       "      <th></th>\n",
       "      <th>Country</th>\n",
       "      <th>DisplayName</th>\n",
       "      <th>Latitude</th>\n",
       "      <th>Longitude</th>\n",
       "      <th>ISO2Code</th>\n",
       "      <th>ISO3Code</th>\n",
       "      <th>ISONumCode</th>\n",
       "      <th>TotalPopulation</th>\n",
       "      <th>Continent</th>\n",
       "      <th>Date</th>\n",
       "      <th>CaseType</th>\n",
       "      <th>DailyReportedCases</th>\n",
       "      <th>CumulativeReportedCases</th>\n",
       "      <th>DailyReportedCasesPer100K</th>\n",
       "      <th>CumulativeReportedCasesPer100K</th>\n",
       "      <th>GrowthFactor</th>\n",
       "      <th>GF_RollingGeomMean</th>\n",
       "      <th>DoublingTime</th>\n",
       "    </tr>\n",
       "  </thead>\n",
       "  <tbody>\n",
       "    <tr>\n",
       "      <th>102</th>\n",
       "      <td>Albania</td>\n",
       "      <td>Albania</td>\n",
       "      <td>41.1533</td>\n",
       "      <td>20.1683</td>\n",
       "      <td>AL</td>\n",
       "      <td>ALB</td>\n",
       "      <td>8</td>\n",
       "      <td>2882735.0</td>\n",
       "      <td>Europe</td>\n",
       "      <td>2020-01-22</td>\n",
       "      <td>confirmed</td>\n",
       "      <td>0</td>\n",
       "      <td>0</td>\n",
       "      <td>0.0</td>\n",
       "      <td>0.0</td>\n",
       "      <td>0.0</td>\n",
       "      <td>0.0</td>\n",
       "      <td>-0.0</td>\n",
       "    </tr>\n",
       "    <tr>\n",
       "      <th>103</th>\n",
       "      <td>Albania</td>\n",
       "      <td>Albania</td>\n",
       "      <td>41.1533</td>\n",
       "      <td>20.1683</td>\n",
       "      <td>AL</td>\n",
       "      <td>ALB</td>\n",
       "      <td>8</td>\n",
       "      <td>2882735.0</td>\n",
       "      <td>Europe</td>\n",
       "      <td>2020-01-23</td>\n",
       "      <td>confirmed</td>\n",
       "      <td>0</td>\n",
       "      <td>0</td>\n",
       "      <td>0.0</td>\n",
       "      <td>0.0</td>\n",
       "      <td>0.0</td>\n",
       "      <td>0.0</td>\n",
       "      <td>-0.0</td>\n",
       "    </tr>\n",
       "    <tr>\n",
       "      <th>104</th>\n",
       "      <td>Albania</td>\n",
       "      <td>Albania</td>\n",
       "      <td>41.1533</td>\n",
       "      <td>20.1683</td>\n",
       "      <td>AL</td>\n",
       "      <td>ALB</td>\n",
       "      <td>8</td>\n",
       "      <td>2882735.0</td>\n",
       "      <td>Europe</td>\n",
       "      <td>2020-01-24</td>\n",
       "      <td>confirmed</td>\n",
       "      <td>0</td>\n",
       "      <td>0</td>\n",
       "      <td>0.0</td>\n",
       "      <td>0.0</td>\n",
       "      <td>0.0</td>\n",
       "      <td>0.0</td>\n",
       "      <td>-0.0</td>\n",
       "    </tr>\n",
       "    <tr>\n",
       "      <th>105</th>\n",
       "      <td>Albania</td>\n",
       "      <td>Albania</td>\n",
       "      <td>41.1533</td>\n",
       "      <td>20.1683</td>\n",
       "      <td>AL</td>\n",
       "      <td>ALB</td>\n",
       "      <td>8</td>\n",
       "      <td>2882735.0</td>\n",
       "      <td>Europe</td>\n",
       "      <td>2020-01-25</td>\n",
       "      <td>confirmed</td>\n",
       "      <td>0</td>\n",
       "      <td>0</td>\n",
       "      <td>0.0</td>\n",
       "      <td>0.0</td>\n",
       "      <td>0.0</td>\n",
       "      <td>0.0</td>\n",
       "      <td>-0.0</td>\n",
       "    </tr>\n",
       "    <tr>\n",
       "      <th>106</th>\n",
       "      <td>Albania</td>\n",
       "      <td>Albania</td>\n",
       "      <td>41.1533</td>\n",
       "      <td>20.1683</td>\n",
       "      <td>AL</td>\n",
       "      <td>ALB</td>\n",
       "      <td>8</td>\n",
       "      <td>2882735.0</td>\n",
       "      <td>Europe</td>\n",
       "      <td>2020-01-26</td>\n",
       "      <td>confirmed</td>\n",
       "      <td>0</td>\n",
       "      <td>0</td>\n",
       "      <td>0.0</td>\n",
       "      <td>0.0</td>\n",
       "      <td>0.0</td>\n",
       "      <td>0.0</td>\n",
       "      <td>-0.0</td>\n",
       "    </tr>\n",
       "  </tbody>\n",
       "</table>\n",
       "</div>"
      ],
      "text/plain": [
       "     Country DisplayName  Latitude  Longitude ISO2Code ISO3Code  ISONumCode  \\\n",
       "102  Albania     Albania   41.1533    20.1683       AL      ALB           8   \n",
       "103  Albania     Albania   41.1533    20.1683       AL      ALB           8   \n",
       "104  Albania     Albania   41.1533    20.1683       AL      ALB           8   \n",
       "105  Albania     Albania   41.1533    20.1683       AL      ALB           8   \n",
       "106  Albania     Albania   41.1533    20.1683       AL      ALB           8   \n",
       "\n",
       "     TotalPopulation Continent        Date   CaseType  DailyReportedCases  \\\n",
       "102        2882735.0    Europe  2020-01-22  confirmed                   0   \n",
       "103        2882735.0    Europe  2020-01-23  confirmed                   0   \n",
       "104        2882735.0    Europe  2020-01-24  confirmed                   0   \n",
       "105        2882735.0    Europe  2020-01-25  confirmed                   0   \n",
       "106        2882735.0    Europe  2020-01-26  confirmed                   0   \n",
       "\n",
       "     CumulativeReportedCases  DailyReportedCasesPer100K  \\\n",
       "102                        0                        0.0   \n",
       "103                        0                        0.0   \n",
       "104                        0                        0.0   \n",
       "105                        0                        0.0   \n",
       "106                        0                        0.0   \n",
       "\n",
       "     CumulativeReportedCasesPer100K  GrowthFactor  GF_RollingGeomMean  \\\n",
       "102                             0.0           0.0                 0.0   \n",
       "103                             0.0           0.0                 0.0   \n",
       "104                             0.0           0.0                 0.0   \n",
       "105                             0.0           0.0                 0.0   \n",
       "106                             0.0           0.0                 0.0   \n",
       "\n",
       "     DoublingTime  \n",
       "102          -0.0  \n",
       "103          -0.0  \n",
       "104          -0.0  \n",
       "105          -0.0  \n",
       "106          -0.0  "
      ]
     },
     "execution_count": 98,
     "metadata": {},
     "output_type": "execute_result"
    }
   ],
   "source": [
    "df_eu.head()"
   ]
  },
  {
   "cell_type": "code",
   "execution_count": 99,
   "metadata": {},
   "outputs": [],
   "source": [
    "end_date = '2020-04-27'"
   ]
  },
  {
   "cell_type": "code",
   "execution_count": 100,
   "metadata": {},
   "outputs": [
    {
     "name": "stdout",
     "output_type": "stream",
     "text": [
      "ALB 2020-03-12\n",
      "AND 2020-03-12\n",
      "AUT 2020-03-05\n",
      "BEL 2020-03-17\n",
      "BGR 2020-04-09\n",
      "BIH 2020-03-19\n",
      "CHE 2020-03-16\n",
      "CZE 2020-03-14\n",
      "DEU 2020-03-08\n",
      "DNK 2020-03-02\n",
      "ESP 2020-03-13\n",
      "EST 2020-03-28\n",
      "FIN 2020-03-15\n",
      "FRA 2020-03-16\n",
      "GBR 2020-03-22\n",
      "GRC 2020-03-22\n",
      "HRV 2020-03-22\n",
      "HUN 2020-03-27\n",
      "IRL 2020-03-25\n",
      "ISL 2020-05-04\n",
      "ITA 2020-02-22\n",
      "LUX 2020-03-16\n",
      "MDA 2020-03-23\n",
      "NLD 2020-03-11\n",
      "NOR 2020-05-04\n",
      "POL 2020-03-30\n",
      "PRT 2020-04-17\n",
      "ROU 2020-03-11\n",
      "SMR 2020-04-16\n",
      "SRB 2020-03-14\n",
      "SVK 2020-03-11\n",
      "SVN 2020-03-13\n",
      "SWE 2020-05-04\n",
      "UKR 2020-03-19\n"
     ]
    }
   ],
   "source": [
    "# Iterate over c6 dict\n",
    "# for each country get cum cases > start_date & < end_date\n",
    "# append to df rows\n",
    "df_eu_resp_list = []\n",
    "\n",
    "for key, val in c6_dict.items():\n",
    "    print(key, val)\n",
    "    mask = (df_eu['ISO3Code'] == key) & (df_eu['Date'] > val) & (df_eu['Date'] < end_date)\n",
    "    df_eu_resp_list.append(df_eu.loc[mask])"
   ]
  },
  {
   "cell_type": "code",
   "execution_count": 102,
   "metadata": {},
   "outputs": [],
   "source": [
    "df_eu_resp = pd.concat(df_eu_resp_list)"
   ]
  },
  {
   "cell_type": "code",
   "execution_count": 103,
   "metadata": {},
   "outputs": [
    {
     "data": {
      "text/html": [
       "<div>\n",
       "<style scoped>\n",
       "    .dataframe tbody tr th:only-of-type {\n",
       "        vertical-align: middle;\n",
       "    }\n",
       "\n",
       "    .dataframe tbody tr th {\n",
       "        vertical-align: top;\n",
       "    }\n",
       "\n",
       "    .dataframe thead th {\n",
       "        text-align: right;\n",
       "    }\n",
       "</style>\n",
       "<table border=\"1\" class=\"dataframe\">\n",
       "  <thead>\n",
       "    <tr style=\"text-align: right;\">\n",
       "      <th></th>\n",
       "      <th>Country</th>\n",
       "      <th>DisplayName</th>\n",
       "      <th>Latitude</th>\n",
       "      <th>Longitude</th>\n",
       "      <th>ISO2Code</th>\n",
       "      <th>ISO3Code</th>\n",
       "      <th>ISONumCode</th>\n",
       "      <th>TotalPopulation</th>\n",
       "      <th>Continent</th>\n",
       "      <th>Date</th>\n",
       "      <th>CaseType</th>\n",
       "      <th>DailyReportedCases</th>\n",
       "      <th>CumulativeReportedCases</th>\n",
       "      <th>DailyReportedCasesPer100K</th>\n",
       "      <th>CumulativeReportedCasesPer100K</th>\n",
       "      <th>GrowthFactor</th>\n",
       "      <th>GF_RollingGeomMean</th>\n",
       "      <th>DoublingTime</th>\n",
       "    </tr>\n",
       "  </thead>\n",
       "  <tbody>\n",
       "    <tr>\n",
       "      <th>153</th>\n",
       "      <td>Albania</td>\n",
       "      <td>Albania</td>\n",
       "      <td>41.1533</td>\n",
       "      <td>20.1683</td>\n",
       "      <td>AL</td>\n",
       "      <td>ALB</td>\n",
       "      <td>8</td>\n",
       "      <td>2882735.0</td>\n",
       "      <td>Europe</td>\n",
       "      <td>2020-03-13</td>\n",
       "      <td>confirmed</td>\n",
       "      <td>10</td>\n",
       "      <td>33</td>\n",
       "      <td>0.346893</td>\n",
       "      <td>1.144746</td>\n",
       "      <td>1.434783</td>\n",
       "      <td>NaN</td>\n",
       "      <td>NaN</td>\n",
       "    </tr>\n",
       "    <tr>\n",
       "      <th>154</th>\n",
       "      <td>Albania</td>\n",
       "      <td>Albania</td>\n",
       "      <td>41.1533</td>\n",
       "      <td>20.1683</td>\n",
       "      <td>AL</td>\n",
       "      <td>ALB</td>\n",
       "      <td>8</td>\n",
       "      <td>2882735.0</td>\n",
       "      <td>Europe</td>\n",
       "      <td>2020-03-14</td>\n",
       "      <td>confirmed</td>\n",
       "      <td>5</td>\n",
       "      <td>38</td>\n",
       "      <td>0.173446</td>\n",
       "      <td>1.318193</td>\n",
       "      <td>1.151515</td>\n",
       "      <td>NaN</td>\n",
       "      <td>NaN</td>\n",
       "    </tr>\n",
       "    <tr>\n",
       "      <th>155</th>\n",
       "      <td>Albania</td>\n",
       "      <td>Albania</td>\n",
       "      <td>41.1533</td>\n",
       "      <td>20.1683</td>\n",
       "      <td>AL</td>\n",
       "      <td>ALB</td>\n",
       "      <td>8</td>\n",
       "      <td>2882735.0</td>\n",
       "      <td>Europe</td>\n",
       "      <td>2020-03-15</td>\n",
       "      <td>confirmed</td>\n",
       "      <td>4</td>\n",
       "      <td>42</td>\n",
       "      <td>0.138757</td>\n",
       "      <td>1.456950</td>\n",
       "      <td>1.105263</td>\n",
       "      <td>NaN</td>\n",
       "      <td>NaN</td>\n",
       "    </tr>\n",
       "    <tr>\n",
       "      <th>156</th>\n",
       "      <td>Albania</td>\n",
       "      <td>Albania</td>\n",
       "      <td>41.1533</td>\n",
       "      <td>20.1683</td>\n",
       "      <td>AL</td>\n",
       "      <td>ALB</td>\n",
       "      <td>8</td>\n",
       "      <td>2882735.0</td>\n",
       "      <td>Europe</td>\n",
       "      <td>2020-03-16</td>\n",
       "      <td>confirmed</td>\n",
       "      <td>9</td>\n",
       "      <td>51</td>\n",
       "      <td>0.312204</td>\n",
       "      <td>1.769153</td>\n",
       "      <td>1.214286</td>\n",
       "      <td>1.588306</td>\n",
       "      <td>1.498151</td>\n",
       "    </tr>\n",
       "    <tr>\n",
       "      <th>157</th>\n",
       "      <td>Albania</td>\n",
       "      <td>Albania</td>\n",
       "      <td>41.1533</td>\n",
       "      <td>20.1683</td>\n",
       "      <td>AL</td>\n",
       "      <td>ALB</td>\n",
       "      <td>8</td>\n",
       "      <td>2882735.0</td>\n",
       "      <td>Europe</td>\n",
       "      <td>2020-03-17</td>\n",
       "      <td>confirmed</td>\n",
       "      <td>4</td>\n",
       "      <td>55</td>\n",
       "      <td>0.138757</td>\n",
       "      <td>1.907910</td>\n",
       "      <td>1.078431</td>\n",
       "      <td>1.275752</td>\n",
       "      <td>2.846186</td>\n",
       "    </tr>\n",
       "    <tr>\n",
       "      <th>...</th>\n",
       "      <td>...</td>\n",
       "      <td>...</td>\n",
       "      <td>...</td>\n",
       "      <td>...</td>\n",
       "      <td>...</td>\n",
       "      <td>...</td>\n",
       "      <td>...</td>\n",
       "      <td>...</td>\n",
       "      <td>...</td>\n",
       "      <td>...</td>\n",
       "      <td>...</td>\n",
       "      <td>...</td>\n",
       "      <td>...</td>\n",
       "      <td>...</td>\n",
       "      <td>...</td>\n",
       "      <td>...</td>\n",
       "      <td>...</td>\n",
       "      <td>...</td>\n",
       "    </tr>\n",
       "    <tr>\n",
       "      <th>63433</th>\n",
       "      <td>Ukraine</td>\n",
       "      <td>Ukraine</td>\n",
       "      <td>48.3794</td>\n",
       "      <td>31.1656</td>\n",
       "      <td>UA</td>\n",
       "      <td>UKR</td>\n",
       "      <td>804</td>\n",
       "      <td>44246158.0</td>\n",
       "      <td>Europe</td>\n",
       "      <td>2020-04-22</td>\n",
       "      <td>recovered</td>\n",
       "      <td>57</td>\n",
       "      <td>424</td>\n",
       "      <td>0.128825</td>\n",
       "      <td>0.958275</td>\n",
       "      <td>1.155313</td>\n",
       "      <td>1.167973</td>\n",
       "      <td>4.464146</td>\n",
       "    </tr>\n",
       "    <tr>\n",
       "      <th>63434</th>\n",
       "      <td>Ukraine</td>\n",
       "      <td>Ukraine</td>\n",
       "      <td>48.3794</td>\n",
       "      <td>31.1656</td>\n",
       "      <td>UA</td>\n",
       "      <td>UKR</td>\n",
       "      <td>804</td>\n",
       "      <td>44246158.0</td>\n",
       "      <td>Europe</td>\n",
       "      <td>2020-04-23</td>\n",
       "      <td>recovered</td>\n",
       "      <td>80</td>\n",
       "      <td>504</td>\n",
       "      <td>0.180807</td>\n",
       "      <td>1.139082</td>\n",
       "      <td>1.188679</td>\n",
       "      <td>1.153043</td>\n",
       "      <td>4.867462</td>\n",
       "    </tr>\n",
       "    <tr>\n",
       "      <th>63435</th>\n",
       "      <td>Ukraine</td>\n",
       "      <td>Ukraine</td>\n",
       "      <td>48.3794</td>\n",
       "      <td>31.1656</td>\n",
       "      <td>UA</td>\n",
       "      <td>UKR</td>\n",
       "      <td>804</td>\n",
       "      <td>44246158.0</td>\n",
       "      <td>Europe</td>\n",
       "      <td>2020-04-24</td>\n",
       "      <td>recovered</td>\n",
       "      <td>278</td>\n",
       "      <td>782</td>\n",
       "      <td>0.628303</td>\n",
       "      <td>1.767385</td>\n",
       "      <td>1.551587</td>\n",
       "      <td>1.179650</td>\n",
       "      <td>4.195359</td>\n",
       "    </tr>\n",
       "    <tr>\n",
       "      <th>63436</th>\n",
       "      <td>Ukraine</td>\n",
       "      <td>Ukraine</td>\n",
       "      <td>48.3794</td>\n",
       "      <td>31.1656</td>\n",
       "      <td>UA</td>\n",
       "      <td>UKR</td>\n",
       "      <td>804</td>\n",
       "      <td>44246158.0</td>\n",
       "      <td>Europe</td>\n",
       "      <td>2020-04-25</td>\n",
       "      <td>recovered</td>\n",
       "      <td>0</td>\n",
       "      <td>782</td>\n",
       "      <td>0.000000</td>\n",
       "      <td>1.767385</td>\n",
       "      <td>1.000000</td>\n",
       "      <td>1.161019</td>\n",
       "      <td>4.642720</td>\n",
       "    </tr>\n",
       "    <tr>\n",
       "      <th>63437</th>\n",
       "      <td>Ukraine</td>\n",
       "      <td>Ukraine</td>\n",
       "      <td>48.3794</td>\n",
       "      <td>31.1656</td>\n",
       "      <td>UA</td>\n",
       "      <td>UKR</td>\n",
       "      <td>804</td>\n",
       "      <td>44246158.0</td>\n",
       "      <td>Europe</td>\n",
       "      <td>2020-04-26</td>\n",
       "      <td>recovered</td>\n",
       "      <td>58</td>\n",
       "      <td>840</td>\n",
       "      <td>0.131085</td>\n",
       "      <td>1.898470</td>\n",
       "      <td>1.074169</td>\n",
       "      <td>1.134619</td>\n",
       "      <td>5.488243</td>\n",
       "    </tr>\n",
       "  </tbody>\n",
       "</table>\n",
       "<p>3588 rows × 18 columns</p>\n",
       "</div>"
      ],
      "text/plain": [
       "       Country DisplayName  Latitude  Longitude ISO2Code ISO3Code  ISONumCode  \\\n",
       "153    Albania     Albania   41.1533    20.1683       AL      ALB           8   \n",
       "154    Albania     Albania   41.1533    20.1683       AL      ALB           8   \n",
       "155    Albania     Albania   41.1533    20.1683       AL      ALB           8   \n",
       "156    Albania     Albania   41.1533    20.1683       AL      ALB           8   \n",
       "157    Albania     Albania   41.1533    20.1683       AL      ALB           8   \n",
       "...        ...         ...       ...        ...      ...      ...         ...   \n",
       "63433  Ukraine     Ukraine   48.3794    31.1656       UA      UKR         804   \n",
       "63434  Ukraine     Ukraine   48.3794    31.1656       UA      UKR         804   \n",
       "63435  Ukraine     Ukraine   48.3794    31.1656       UA      UKR         804   \n",
       "63436  Ukraine     Ukraine   48.3794    31.1656       UA      UKR         804   \n",
       "63437  Ukraine     Ukraine   48.3794    31.1656       UA      UKR         804   \n",
       "\n",
       "       TotalPopulation Continent        Date   CaseType  DailyReportedCases  \\\n",
       "153          2882735.0    Europe  2020-03-13  confirmed                  10   \n",
       "154          2882735.0    Europe  2020-03-14  confirmed                   5   \n",
       "155          2882735.0    Europe  2020-03-15  confirmed                   4   \n",
       "156          2882735.0    Europe  2020-03-16  confirmed                   9   \n",
       "157          2882735.0    Europe  2020-03-17  confirmed                   4   \n",
       "...                ...       ...         ...        ...                 ...   \n",
       "63433       44246158.0    Europe  2020-04-22  recovered                  57   \n",
       "63434       44246158.0    Europe  2020-04-23  recovered                  80   \n",
       "63435       44246158.0    Europe  2020-04-24  recovered                 278   \n",
       "63436       44246158.0    Europe  2020-04-25  recovered                   0   \n",
       "63437       44246158.0    Europe  2020-04-26  recovered                  58   \n",
       "\n",
       "       CumulativeReportedCases  DailyReportedCasesPer100K  \\\n",
       "153                         33                   0.346893   \n",
       "154                         38                   0.173446   \n",
       "155                         42                   0.138757   \n",
       "156                         51                   0.312204   \n",
       "157                         55                   0.138757   \n",
       "...                        ...                        ...   \n",
       "63433                      424                   0.128825   \n",
       "63434                      504                   0.180807   \n",
       "63435                      782                   0.628303   \n",
       "63436                      782                   0.000000   \n",
       "63437                      840                   0.131085   \n",
       "\n",
       "       CumulativeReportedCasesPer100K  GrowthFactor  GF_RollingGeomMean  \\\n",
       "153                          1.144746      1.434783                 NaN   \n",
       "154                          1.318193      1.151515                 NaN   \n",
       "155                          1.456950      1.105263                 NaN   \n",
       "156                          1.769153      1.214286            1.588306   \n",
       "157                          1.907910      1.078431            1.275752   \n",
       "...                               ...           ...                 ...   \n",
       "63433                        0.958275      1.155313            1.167973   \n",
       "63434                        1.139082      1.188679            1.153043   \n",
       "63435                        1.767385      1.551587            1.179650   \n",
       "63436                        1.767385      1.000000            1.161019   \n",
       "63437                        1.898470      1.074169            1.134619   \n",
       "\n",
       "       DoublingTime  \n",
       "153             NaN  \n",
       "154             NaN  \n",
       "155             NaN  \n",
       "156        1.498151  \n",
       "157        2.846186  \n",
       "...             ...  \n",
       "63433      4.464146  \n",
       "63434      4.867462  \n",
       "63435      4.195359  \n",
       "63436      4.642720  \n",
       "63437      5.488243  \n",
       "\n",
       "[3588 rows x 18 columns]"
      ]
     },
     "execution_count": 103,
     "metadata": {},
     "output_type": "execute_result"
    }
   ],
   "source": [
    "df_eu_resp"
   ]
  },
  {
   "cell_type": "code",
   "execution_count": null,
   "metadata": {},
   "outputs": [],
   "source": [
    "# select variable to plot\n",
    "# remove all cols except selected var and date and country\n",
    "# unmelt and transpose\n",
    "# reset index and remove date\n"
   ]
  },
  {
   "cell_type": "code",
   "execution_count": 114,
   "metadata": {},
   "outputs": [
    {
     "data": {
      "text/html": [
       "<div>\n",
       "<style scoped>\n",
       "    .dataframe tbody tr th:only-of-type {\n",
       "        vertical-align: middle;\n",
       "    }\n",
       "\n",
       "    .dataframe tbody tr th {\n",
       "        vertical-align: top;\n",
       "    }\n",
       "\n",
       "    .dataframe thead th {\n",
       "        text-align: right;\n",
       "    }\n",
       "</style>\n",
       "<table border=\"1\" class=\"dataframe\">\n",
       "  <thead>\n",
       "    <tr style=\"text-align: right;\">\n",
       "      <th></th>\n",
       "      <th>Latitude</th>\n",
       "      <th>Longitude</th>\n",
       "      <th>ISONumCode</th>\n",
       "      <th>TotalPopulation</th>\n",
       "      <th>DailyReportedCases</th>\n",
       "      <th>CumulativeReportedCases</th>\n",
       "      <th>DailyReportedCasesPer100K</th>\n",
       "      <th>CumulativeReportedCasesPer100K</th>\n",
       "      <th>GrowthFactor</th>\n",
       "      <th>GF_RollingGeomMean</th>\n",
       "      <th>DoublingTime</th>\n",
       "    </tr>\n",
       "  </thead>\n",
       "  <tbody>\n",
       "    <tr>\n",
       "      <th>count</th>\n",
       "      <td>211.000000</td>\n",
       "      <td>211.000000</td>\n",
       "      <td>211.000000</td>\n",
       "      <td>2.110000e+02</td>\n",
       "      <td>211.000000</td>\n",
       "      <td>211.000000</td>\n",
       "      <td>211.000000</td>\n",
       "      <td>211.000000</td>\n",
       "      <td>211.000000</td>\n",
       "      <td>207.000000</td>\n",
       "      <td>207.000000</td>\n",
       "    </tr>\n",
       "    <tr>\n",
       "      <th>mean</th>\n",
       "      <td>26.622468</td>\n",
       "      <td>28.861186</td>\n",
       "      <td>429.180095</td>\n",
       "      <td>3.595474e+07</td>\n",
       "      <td>21.725118</td>\n",
       "      <td>1016.436019</td>\n",
       "      <td>0.066646</td>\n",
       "      <td>3.883175</td>\n",
       "      <td>0.817813</td>\n",
       "      <td>0.826301</td>\n",
       "      <td>inf</td>\n",
       "    </tr>\n",
       "    <tr>\n",
       "      <th>std</th>\n",
       "      <td>89.785196</td>\n",
       "      <td>281.720252</td>\n",
       "      <td>253.325681</td>\n",
       "      <td>1.401518e+08</td>\n",
       "      <td>110.002988</td>\n",
       "      <td>5157.081606</td>\n",
       "      <td>0.238199</td>\n",
       "      <td>12.188601</td>\n",
       "      <td>0.409837</td>\n",
       "      <td>0.419120</td>\n",
       "      <td>NaN</td>\n",
       "    </tr>\n",
       "    <tr>\n",
       "      <th>min</th>\n",
       "      <td>-255.969500</td>\n",
       "      <td>-1114.963400</td>\n",
       "      <td>4.000000</td>\n",
       "      <td>8.100000e+02</td>\n",
       "      <td>0.000000</td>\n",
       "      <td>0.000000</td>\n",
       "      <td>0.000000</td>\n",
       "      <td>0.000000</td>\n",
       "      <td>0.000000</td>\n",
       "      <td>0.000000</td>\n",
       "      <td>-11.966579</td>\n",
       "    </tr>\n",
       "    <tr>\n",
       "      <th>25%</th>\n",
       "      <td>6.425950</td>\n",
       "      <td>-32.823050</td>\n",
       "      <td>213.000000</td>\n",
       "      <td>8.574265e+05</td>\n",
       "      <td>0.000000</td>\n",
       "      <td>1.000000</td>\n",
       "      <td>0.000000</td>\n",
       "      <td>0.023672</td>\n",
       "      <td>1.000000</td>\n",
       "      <td>1.000000</td>\n",
       "      <td>7.079657</td>\n",
       "    </tr>\n",
       "    <tr>\n",
       "      <th>50%</th>\n",
       "      <td>18.109600</td>\n",
       "      <td>16.000000</td>\n",
       "      <td>428.000000</td>\n",
       "      <td>6.859408e+06</td>\n",
       "      <td>0.000000</td>\n",
       "      <td>10.000000</td>\n",
       "      <td>0.000000</td>\n",
       "      <td>0.243161</td>\n",
       "      <td>1.000000</td>\n",
       "      <td>1.019259</td>\n",
       "      <td>16.636912</td>\n",
       "    </tr>\n",
       "    <tr>\n",
       "      <th>75%</th>\n",
       "      <td>40.648200</td>\n",
       "      <td>43.345100</td>\n",
       "      <td>655.500000</td>\n",
       "      <td>2.498369e+07</td>\n",
       "      <td>2.500000</td>\n",
       "      <td>88.000000</td>\n",
       "      <td>0.022861</td>\n",
       "      <td>1.822714</td>\n",
       "      <td>1.020184</td>\n",
       "      <td>1.049241</td>\n",
       "      <td>43.030661</td>\n",
       "    </tr>\n",
       "    <tr>\n",
       "      <th>max</th>\n",
       "      <td>1083.336700</td>\n",
       "      <td>3684.419700</td>\n",
       "      <td>983.000000</td>\n",
       "      <td>1.427648e+09</td>\n",
       "      <td>1378.000000</td>\n",
       "      <td>56259.000000</td>\n",
       "      <td>2.378885</td>\n",
       "      <td>121.359223</td>\n",
       "      <td>1.200000</td>\n",
       "      <td>1.183385</td>\n",
       "      <td>inf</td>\n",
       "    </tr>\n",
       "  </tbody>\n",
       "</table>\n",
       "</div>"
      ],
      "text/plain": [
       "          Latitude    Longitude  ISONumCode  TotalPopulation  \\\n",
       "count   211.000000   211.000000  211.000000     2.110000e+02   \n",
       "mean     26.622468    28.861186  429.180095     3.595474e+07   \n",
       "std      89.785196   281.720252  253.325681     1.401518e+08   \n",
       "min    -255.969500 -1114.963400    4.000000     8.100000e+02   \n",
       "25%       6.425950   -32.823050  213.000000     8.574265e+05   \n",
       "50%      18.109600    16.000000  428.000000     6.859408e+06   \n",
       "75%      40.648200    43.345100  655.500000     2.498369e+07   \n",
       "max    1083.336700  3684.419700  983.000000     1.427648e+09   \n",
       "\n",
       "       DailyReportedCases  CumulativeReportedCases  DailyReportedCasesPer100K  \\\n",
       "count          211.000000               211.000000                 211.000000   \n",
       "mean            21.725118              1016.436019                   0.066646   \n",
       "std            110.002988              5157.081606                   0.238199   \n",
       "min              0.000000                 0.000000                   0.000000   \n",
       "25%              0.000000                 1.000000                   0.000000   \n",
       "50%              0.000000                10.000000                   0.000000   \n",
       "75%              2.500000                88.000000                   0.022861   \n",
       "max           1378.000000             56259.000000                   2.378885   \n",
       "\n",
       "       CumulativeReportedCasesPer100K  GrowthFactor  GF_RollingGeomMean  \\\n",
       "count                      211.000000    211.000000          207.000000   \n",
       "mean                         3.883175      0.817813            0.826301   \n",
       "std                         12.188601      0.409837            0.419120   \n",
       "min                          0.000000      0.000000            0.000000   \n",
       "25%                          0.023672      1.000000            1.000000   \n",
       "50%                          0.243161      1.000000            1.019259   \n",
       "75%                          1.822714      1.020184            1.049241   \n",
       "max                        121.359223      1.200000            1.183385   \n",
       "\n",
       "       DoublingTime  \n",
       "count    207.000000  \n",
       "mean            inf  \n",
       "std             NaN  \n",
       "min      -11.966579  \n",
       "25%        7.079657  \n",
       "50%       16.636912  \n",
       "75%       43.030661  \n",
       "max             inf  "
      ]
     },
     "execution_count": 114,
     "metadata": {},
     "output_type": "execute_result"
    }
   ],
   "source": [
    "df[(df['CaseType'] == 'death') & (df['Date'] == '2020-04-27')].describe()"
   ]
  },
  {
   "cell_type": "code",
   "execution_count": 112,
   "metadata": {},
   "outputs": [
    {
     "data": {
      "text/html": [
       "<div>\n",
       "<style scoped>\n",
       "    .dataframe tbody tr th:only-of-type {\n",
       "        vertical-align: middle;\n",
       "    }\n",
       "\n",
       "    .dataframe tbody tr th {\n",
       "        vertical-align: top;\n",
       "    }\n",
       "\n",
       "    .dataframe thead th {\n",
       "        text-align: right;\n",
       "    }\n",
       "</style>\n",
       "<table border=\"1\" class=\"dataframe\">\n",
       "  <thead>\n",
       "    <tr style=\"text-align: right;\">\n",
       "      <th></th>\n",
       "      <th>Country</th>\n",
       "      <th>DisplayName</th>\n",
       "      <th>Latitude</th>\n",
       "      <th>Longitude</th>\n",
       "      <th>ISO2Code</th>\n",
       "      <th>ISO3Code</th>\n",
       "      <th>ISONumCode</th>\n",
       "      <th>TotalPopulation</th>\n",
       "      <th>Continent</th>\n",
       "      <th>Date</th>\n",
       "      <th>CaseType</th>\n",
       "      <th>DailyReportedCases</th>\n",
       "      <th>CumulativeReportedCases</th>\n",
       "      <th>DailyReportedCasesPer100K</th>\n",
       "      <th>CumulativeReportedCasesPer100K</th>\n",
       "      <th>GrowthFactor</th>\n",
       "      <th>GF_RollingGeomMean</th>\n",
       "      <th>DoublingTime</th>\n",
       "    </tr>\n",
       "  </thead>\n",
       "  <tbody>\n",
       "    <tr>\n",
       "      <th>17027</th>\n",
       "      <td>San Marino</td>\n",
       "      <td>San Marino</td>\n",
       "      <td>43.9424</td>\n",
       "      <td>12.4578</td>\n",
       "      <td>SM</td>\n",
       "      <td>SMR</td>\n",
       "      <td>674</td>\n",
       "      <td>33784.0</td>\n",
       "      <td>Europe</td>\n",
       "      <td>2020-04-26</td>\n",
       "      <td>confirmed</td>\n",
       "      <td>25</td>\n",
       "      <td>538</td>\n",
       "      <td>73.999526</td>\n",
       "      <td>1592.469808</td>\n",
       "      <td>1.048733</td>\n",
       "      <td>1.022311</td>\n",
       "      <td>31.412754</td>\n",
       "    </tr>\n",
       "    <tr>\n",
       "      <th>17028</th>\n",
       "      <td>San Marino</td>\n",
       "      <td>San Marino</td>\n",
       "      <td>43.9424</td>\n",
       "      <td>12.4578</td>\n",
       "      <td>SM</td>\n",
       "      <td>SMR</td>\n",
       "      <td>674</td>\n",
       "      <td>33784.0</td>\n",
       "      <td>Europe</td>\n",
       "      <td>2020-04-27</td>\n",
       "      <td>confirmed</td>\n",
       "      <td>0</td>\n",
       "      <td>538</td>\n",
       "      <td>0.000000</td>\n",
       "      <td>1592.469808</td>\n",
       "      <td>1.000000</td>\n",
       "      <td>1.021995</td>\n",
       "      <td>31.859698</td>\n",
       "    </tr>\n",
       "  </tbody>\n",
       "</table>\n",
       "</div>"
      ],
      "text/plain": [
       "          Country DisplayName  Latitude  Longitude ISO2Code ISO3Code  \\\n",
       "17027  San Marino  San Marino   43.9424    12.4578       SM      SMR   \n",
       "17028  San Marino  San Marino   43.9424    12.4578       SM      SMR   \n",
       "\n",
       "       ISONumCode  TotalPopulation Continent        Date   CaseType  \\\n",
       "17027         674          33784.0    Europe  2020-04-26  confirmed   \n",
       "17028         674          33784.0    Europe  2020-04-27  confirmed   \n",
       "\n",
       "       DailyReportedCases  CumulativeReportedCases  DailyReportedCasesPer100K  \\\n",
       "17027                  25                      538                  73.999526   \n",
       "17028                   0                      538                   0.000000   \n",
       "\n",
       "       CumulativeReportedCasesPer100K  GrowthFactor  GF_RollingGeomMean  \\\n",
       "17027                     1592.469808      1.048733            1.022311   \n",
       "17028                     1592.469808      1.000000            1.021995   \n",
       "\n",
       "       DoublingTime  \n",
       "17027     31.412754  \n",
       "17028     31.859698  "
      ]
     },
     "execution_count": 112,
     "metadata": {},
     "output_type": "execute_result"
    }
   ],
   "source": [
    "test = df[(df['Date'] == '2020-04-27')]\n",
    "value = test['CumulativeReportedCasesPer100K'].max()\n",
    "df[df['CumulativeReportedCasesPer100K'] == value]"
   ]
  },
  {
   "cell_type": "code",
   "execution_count": 106,
   "metadata": {},
   "outputs": [
    {
     "data": {
      "text/html": [
       "<div>\n",
       "<style scoped>\n",
       "    .dataframe tbody tr th:only-of-type {\n",
       "        vertical-align: middle;\n",
       "    }\n",
       "\n",
       "    .dataframe tbody tr th {\n",
       "        vertical-align: top;\n",
       "    }\n",
       "\n",
       "    .dataframe thead th {\n",
       "        text-align: right;\n",
       "    }\n",
       "</style>\n",
       "<table border=\"1\" class=\"dataframe\">\n",
       "  <thead>\n",
       "    <tr style=\"text-align: right;\">\n",
       "      <th></th>\n",
       "      <th>Country</th>\n",
       "      <th>DisplayName</th>\n",
       "      <th>Latitude</th>\n",
       "      <th>Longitude</th>\n",
       "      <th>ISO2Code</th>\n",
       "      <th>ISO3Code</th>\n",
       "      <th>ISONumCode</th>\n",
       "      <th>TotalPopulation</th>\n",
       "      <th>Continent</th>\n",
       "      <th>Date</th>\n",
       "      <th>CaseType</th>\n",
       "      <th>DailyReportedCases</th>\n",
       "      <th>CumulativeReportedCases</th>\n",
       "      <th>DailyReportedCasesPer100K</th>\n",
       "      <th>CumulativeReportedCasesPer100K</th>\n",
       "      <th>GrowthFactor</th>\n",
       "      <th>GF_RollingGeomMean</th>\n",
       "      <th>DoublingTime</th>\n",
       "    </tr>\n",
       "  </thead>\n",
       "  <tbody>\n",
       "    <tr>\n",
       "      <th>4176</th>\n",
       "      <td>China</td>\n",
       "      <td>China</td>\n",
       "      <td>1083.3367</td>\n",
       "      <td>3684.4197</td>\n",
       "      <td>CN</td>\n",
       "      <td>CHN</td>\n",
       "      <td>156</td>\n",
       "      <td>1.427648e+09</td>\n",
       "      <td>Asia</td>\n",
       "      <td>2020-04-27</td>\n",
       "      <td>confirmed</td>\n",
       "      <td>6</td>\n",
       "      <td>83918</td>\n",
       "      <td>0.000420</td>\n",
       "      <td>5.878060</td>\n",
       "      <td>1.000072</td>\n",
       "      <td>1.000172</td>\n",
       "      <td>4028.986129</td>\n",
       "    </tr>\n",
       "    <tr>\n",
       "      <th>25698</th>\n",
       "      <td>China</td>\n",
       "      <td>China</td>\n",
       "      <td>1083.3367</td>\n",
       "      <td>3684.4197</td>\n",
       "      <td>CN</td>\n",
       "      <td>CHN</td>\n",
       "      <td>156</td>\n",
       "      <td>1.427648e+09</td>\n",
       "      <td>Asia</td>\n",
       "      <td>2020-04-27</td>\n",
       "      <td>death</td>\n",
       "      <td>0</td>\n",
       "      <td>4637</td>\n",
       "      <td>0.000000</td>\n",
       "      <td>0.324800</td>\n",
       "      <td>1.000000</td>\n",
       "      <td>1.000031</td>\n",
       "      <td>22496.438231</td>\n",
       "    </tr>\n",
       "    <tr>\n",
       "      <th>47220</th>\n",
       "      <td>China</td>\n",
       "      <td>China</td>\n",
       "      <td>1083.3367</td>\n",
       "      <td>3684.4197</td>\n",
       "      <td>CN</td>\n",
       "      <td>CHN</td>\n",
       "      <td>156</td>\n",
       "      <td>1.427648e+09</td>\n",
       "      <td>Asia</td>\n",
       "      <td>2020-04-27</td>\n",
       "      <td>recovered</td>\n",
       "      <td>97</td>\n",
       "      <td>78374</td>\n",
       "      <td>0.006794</td>\n",
       "      <td>5.489729</td>\n",
       "      <td>1.001239</td>\n",
       "      <td>1.001152</td>\n",
       "      <td>602.138326</td>\n",
       "    </tr>\n",
       "  </tbody>\n",
       "</table>\n",
       "</div>"
      ],
      "text/plain": [
       "      Country DisplayName   Latitude  Longitude ISO2Code ISO3Code  ISONumCode  \\\n",
       "4176    China       China  1083.3367  3684.4197       CN      CHN         156   \n",
       "25698   China       China  1083.3367  3684.4197       CN      CHN         156   \n",
       "47220   China       China  1083.3367  3684.4197       CN      CHN         156   \n",
       "\n",
       "       TotalPopulation Continent        Date   CaseType  DailyReportedCases  \\\n",
       "4176      1.427648e+09      Asia  2020-04-27  confirmed                   6   \n",
       "25698     1.427648e+09      Asia  2020-04-27      death                   0   \n",
       "47220     1.427648e+09      Asia  2020-04-27  recovered                  97   \n",
       "\n",
       "       CumulativeReportedCases  DailyReportedCasesPer100K  \\\n",
       "4176                     83918                   0.000420   \n",
       "25698                     4637                   0.000000   \n",
       "47220                    78374                   0.006794   \n",
       "\n",
       "       CumulativeReportedCasesPer100K  GrowthFactor  GF_RollingGeomMean  \\\n",
       "4176                         5.878060      1.000072            1.000172   \n",
       "25698                        0.324800      1.000000            1.000031   \n",
       "47220                        5.489729      1.001239            1.001152   \n",
       "\n",
       "       DoublingTime  \n",
       "4176    4028.986129  \n",
       "25698  22496.438231  \n",
       "47220    602.138326  "
      ]
     },
     "execution_count": 106,
     "metadata": {},
     "output_type": "execute_result"
    }
   ],
   "source": [
    "df[(df['Country'] == 'China') & (df['Date'] == '2020-04-27')]"
   ]
  }
 ],
 "metadata": {
  "kernelspec": {
   "display_name": "Python 3",
   "language": "python",
   "name": "python3"
  },
  "language_info": {
   "codemirror_mode": {
    "name": "ipython",
    "version": 3
   },
   "file_extension": ".py",
   "mimetype": "text/x-python",
   "name": "python",
   "nbconvert_exporter": "python",
   "pygments_lexer": "ipython3",
   "version": "3.7.3"
  },
  "varInspector": {
   "cols": {
    "lenName": 16,
    "lenType": 16,
    "lenVar": 40
   },
   "kernels_config": {
    "python": {
     "delete_cmd_postfix": "",
     "delete_cmd_prefix": "del ",
     "library": "var_list.py",
     "varRefreshCmd": "print(var_dic_list())"
    },
    "r": {
     "delete_cmd_postfix": ") ",
     "delete_cmd_prefix": "rm(",
     "library": "var_list.r",
     "varRefreshCmd": "cat(var_dic_list()) "
    }
   },
   "position": {
    "height": "382.85px",
    "left": "519px",
    "right": "20px",
    "top": "120px",
    "width": "350px"
   },
   "types_to_exclude": [
    "module",
    "function",
    "builtin_function_or_method",
    "instance",
    "_Feature"
   ],
   "window_display": false
  }
 },
 "nbformat": 4,
 "nbformat_minor": 2
}
